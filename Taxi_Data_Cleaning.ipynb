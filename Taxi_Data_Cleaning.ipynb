{
 "cells": [
  {
   "cell_type": "code",
   "execution_count": 1,
   "id": "8b44d9dd",
   "metadata": {},
   "outputs": [],
   "source": [
    "import pandas as pd\n",
    "import numpy as np\n",
    "import pandas as pd\n",
    "from sklearn.preprocessing import StandardScaler\n",
    "from sklearn.cluster import KMeans"
   ]
  },
  {
   "cell_type": "code",
   "execution_count": 2,
   "id": "e9a0dee9",
   "metadata": {},
   "outputs": [],
   "source": [
    "dtype_mapping = {\n",
    "    'VendorID': 'Int64',\n",
    "    'passenger_count': 'Int64', \n",
    "    'trip_distance': float,\n",
    "    'RatecodeID': 'Int64',  \n",
    "    'PULocationID': 'Int64',\n",
    "    'DOLocationID': 'Int64',\n",
    "    'payment_type': 'Int64',\n",
    "    'fare_amount': float,\n",
    "    'extra': float,\n",
    "    'mta_tax': float,\n",
    "    'tip_amount': float,\n",
    "    'tolls_amount': float,\n",
    "    'improvement_surcharge': float,\n",
    "    'total_amount': float,\n",
    "    'congestion_surcharge': float,\n",
    "    'store_and_fwd_flag': 'category'\n",
    "}\n",
    "jan_data = pd.read_csv('./Taxi_Data/yellow_tripdata_2019-01.csv', dtype=dtype_mapping, parse_dates=['tpep_pickup_datetime', 'tpep_dropoff_datetime'])\n",
    "feb_data = pd.read_csv('./Taxi_Data/yellow_tripdata_2019-02.csv', dtype=dtype_mapping, parse_dates=['tpep_pickup_datetime', 'tpep_dropoff_datetime'])\n",
    "mar_data = pd.read_csv('./Taxi_Data/yellow_tripdata_2019-03.csv', dtype=dtype_mapping, parse_dates=['tpep_pickup_datetime', 'tpep_dropoff_datetime'])"
   ]
  },
  {
   "cell_type": "code",
   "execution_count": 3,
   "id": "b434c689",
   "metadata": {},
   "outputs": [],
   "source": [
    "data = pd.concat([jan_data, feb_data, mar_data])"
   ]
  },
  {
   "cell_type": "code",
   "execution_count": 10,
   "id": "56efd81b",
   "metadata": {},
   "outputs": [
    {
     "data": {
      "text/plain": [
       "22519712"
      ]
     },
     "execution_count": 10,
     "metadata": {},
     "output_type": "execute_result"
    }
   ],
   "source": [
    "len(data)"
   ]
  },
  {
   "cell_type": "code",
   "execution_count": 4,
   "id": "7a660156",
   "metadata": {},
   "outputs": [],
   "source": [
    "# Display the first few rows of the dataframe to verify correct loading\n",
    "data_subset = data[['tpep_pickup_datetime', 'trip_distance','passenger_count','PULocationID','DOLocationID','tip_amount']].copy()\n"
   ]
  },
  {
   "cell_type": "code",
   "execution_count": 5,
   "id": "0d20beee",
   "metadata": {},
   "outputs": [
    {
     "data": {
      "text/plain": [
       "tpep_pickup_datetime    0\n",
       "trip_distance           0\n",
       "passenger_count         0\n",
       "PULocationID            0\n",
       "DOLocationID            0\n",
       "tip_amount              0\n",
       "dtype: int64"
      ]
     },
     "execution_count": 5,
     "metadata": {},
     "output_type": "execute_result"
    }
   ],
   "source": [
    "data_subset.isna().sum()"
   ]
  },
  {
   "cell_type": "code",
   "execution_count": 6,
   "id": "1ef6fd01",
   "metadata": {},
   "outputs": [],
   "source": [
    "data_subset['pickup_hour'] = data_subset['tpep_pickup_datetime'].dt.hour"
   ]
  },
  {
   "cell_type": "code",
   "execution_count": 7,
   "id": "3da90dd4",
   "metadata": {},
   "outputs": [],
   "source": [
    "data_subset.drop('tpep_pickup_datetime', axis = 1, inplace=True)"
   ]
  },
  {
   "cell_type": "code",
   "execution_count": 8,
   "id": "560b585c",
   "metadata": {},
   "outputs": [],
   "source": [
    "data_subset[['tip_amount','trip_distance']] = StandardScaler().fit_transform(data_subset[['tip_amount','trip_distance']])"
   ]
  },
  {
   "cell_type": "code",
   "execution_count": 9,
   "id": "d7f17ea4",
   "metadata": {},
   "outputs": [],
   "source": [
    "data_subset.to_csv('./Taxi_Data/cleaned_tripdata_2019-Q1.csv', index=False)"
   ]
  }
 ],
 "metadata": {
  "kernelspec": {
   "display_name": "Python 3 (ipykernel)",
   "language": "python",
   "name": "python3"
  },
  "language_info": {
   "codemirror_mode": {
    "name": "ipython",
    "version": 3
   },
   "file_extension": ".py",
   "mimetype": "text/x-python",
   "name": "python",
   "nbconvert_exporter": "python",
   "pygments_lexer": "ipython3",
   "version": "3.10.8"
  }
 },
 "nbformat": 4,
 "nbformat_minor": 5
}
