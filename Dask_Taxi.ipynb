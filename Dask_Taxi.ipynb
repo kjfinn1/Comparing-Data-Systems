{
 "cells": [
  {
   "cell_type": "code",
   "execution_count": 14,
   "id": "7beea826-4091-45a6-848d-2374032ba929",
   "metadata": {},
   "outputs": [],
   "source": [
    "import dask_ml.cluster\n",
    "from dask.distributed import Client\n",
    "import dask.dataframe as dd\n",
    "import pandas as pd\n",
    "import dask_ml.metrics\n",
    "import time\n",
    "import statistics"
   ]
  },
  {
   "cell_type": "code",
   "execution_count": 2,
   "id": "13802c01-1b62-4ed8-83aa-0fbf5fba5786",
   "metadata": {},
   "outputs": [
    {
     "name": "stdout",
     "output_type": "stream",
     "text": [
      "<Client: 'tcp://172.31.43.144:8786' processes=0 threads=0, memory=0 B>\n"
     ]
    }
   ],
   "source": [
    "client = Client(\"172.31.43.144:8786\")\n",
    "client.restart()\n",
    "print(client)"
   ]
  },
  {
   "cell_type": "code",
   "execution_count": 3,
   "id": "7641deaa-be1e-44e9-98f0-ba2fdd3121f1",
   "metadata": {},
   "outputs": [],
   "source": [
    "ddf = dd.read_csv(\"/home/ubuntu/data.csv\", sample=2**20)\n",
    "ddf = ddf.persist()"
   ]
  },
  {
   "cell_type": "code",
   "execution_count": 4,
   "id": "836e4671-757f-4a75-bf78-27fbb1080a9c",
   "metadata": {},
   "outputs": [],
   "source": [
    "times = []"
   ]
  },
  {
   "cell_type": "code",
   "execution_count": 5,
   "id": "b0eb70a1-7117-48b9-a140-3ca0a127f935",
   "metadata": {},
   "outputs": [
    {
     "name": "stderr",
     "output_type": "stream",
     "text": [
      "/home/ubuntu/.local/lib/python3.10/site-packages/dask/base.py:1462: UserWarning: Running on a single-machine scheduler when a distributed client is active might lead to unexpected results.\n",
      "  warnings.warn(\n"
     ]
    }
   ],
   "source": [
    "t0 = time.time()\n",
    "dkm = dask_ml.cluster.KMeans(n_clusters=5)\n",
    "dkm.fit(ddf)\n",
    "t1 = time.time()\n",
    "times.append(t1-t0)"
   ]
  },
  {
   "cell_type": "code",
   "execution_count": 6,
   "id": "70409db0-1da4-4c97-9d02-17534caa14f5",
   "metadata": {},
   "outputs": [
    {
     "name": "stderr",
     "output_type": "stream",
     "text": [
      "/home/ubuntu/.local/lib/python3.10/site-packages/dask/base.py:1462: UserWarning: Running on a single-machine scheduler when a distributed client is active might lead to unexpected results.\n",
      "  warnings.warn(\n"
     ]
    }
   ],
   "source": [
    "t0 = time.time()\n",
    "dkm = dask_ml.cluster.KMeans(n_clusters=5)\n",
    "dkm.fit(ddf)\n",
    "t1 = time.time()\n",
    "times.append(t1-t0)"
   ]
  },
  {
   "cell_type": "code",
   "execution_count": 7,
   "id": "b5716c72-3127-4a20-b3f7-97fe49de3e88",
   "metadata": {},
   "outputs": [
    {
     "name": "stderr",
     "output_type": "stream",
     "text": [
      "/home/ubuntu/.local/lib/python3.10/site-packages/dask/base.py:1462: UserWarning: Running on a single-machine scheduler when a distributed client is active might lead to unexpected results.\n",
      "  warnings.warn(\n"
     ]
    }
   ],
   "source": [
    "t0 = time.time()\n",
    "dkm = dask_ml.cluster.KMeans(n_clusters=5)\n",
    "dkm.fit(ddf)\n",
    "t1 = time.time()\n",
    "times.append(t1-t0)"
   ]
  },
  {
   "cell_type": "code",
   "execution_count": 8,
   "id": "a91afacc-3d4e-4367-b870-9d62934c3e2c",
   "metadata": {},
   "outputs": [
    {
     "name": "stderr",
     "output_type": "stream",
     "text": [
      "/home/ubuntu/.local/lib/python3.10/site-packages/dask/base.py:1462: UserWarning: Running on a single-machine scheduler when a distributed client is active might lead to unexpected results.\n",
      "  warnings.warn(\n"
     ]
    }
   ],
   "source": [
    "t0 = time.time()\n",
    "dkm = dask_ml.cluster.KMeans(n_clusters=5)\n",
    "dkm.fit(ddf)\n",
    "t1 = time.time()\n",
    "times.append(t1-t0)"
   ]
  },
  {
   "cell_type": "code",
   "execution_count": 9,
   "id": "fe8f8709-970a-4b7f-99f7-c371e4b27a12",
   "metadata": {},
   "outputs": [
    {
     "name": "stderr",
     "output_type": "stream",
     "text": [
      "/home/ubuntu/.local/lib/python3.10/site-packages/dask/base.py:1462: UserWarning: Running on a single-machine scheduler when a distributed client is active might lead to unexpected results.\n",
      "  warnings.warn(\n"
     ]
    }
   ],
   "source": [
    "t0 = time.time()\n",
    "dkm = dask_ml.cluster.KMeans(n_clusters=5)\n",
    "dkm.fit(ddf)\n",
    "t1 = time.time()\n",
    "times.append(t1-t0)"
   ]
  },
  {
   "cell_type": "code",
   "execution_count": 15,
   "id": "e0454983-0e61-4eb8-854c-63dea231190a",
   "metadata": {},
   "outputs": [
    {
     "data": {
      "text/plain": [
       "61.93298492431641"
      ]
     },
     "execution_count": 15,
     "metadata": {},
     "output_type": "execute_result"
    }
   ],
   "source": [
    "statistics.mean(times)"
   ]
  },
  {
   "cell_type": "code",
   "execution_count": 16,
   "id": "b5b6c4e4-484a-41a2-ab59-a14a0e9da294",
   "metadata": {},
   "outputs": [
    {
     "data": {
      "text/plain": [
       "15525796687.60562"
      ]
     },
     "execution_count": 16,
     "metadata": {},
     "output_type": "execute_result"
    }
   ],
   "source": [
    "dkm.inertia_"
   ]
  },
  {
   "cell_type": "code",
   "execution_count": null,
   "id": "438f61f6-65e3-4b67-be98-13d1213176bd",
   "metadata": {},
   "outputs": [],
   "source": []
  }
 ],
 "metadata": {
  "kernelspec": {
   "display_name": "Python 3 (ipykernel)",
   "language": "python",
   "name": "python3"
  },
  "language_info": {
   "codemirror_mode": {
    "name": "ipython",
    "version": 3
   },
   "file_extension": ".py",
   "mimetype": "text/x-python",
   "name": "python",
   "nbconvert_exporter": "python",
   "pygments_lexer": "ipython3",
   "version": "3.10.12"
  }
 },
 "nbformat": 4,
 "nbformat_minor": 5
}
