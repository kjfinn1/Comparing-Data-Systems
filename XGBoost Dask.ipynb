{
 "cells": [
  {
   "cell_type": "code",
   "execution_count": 24,
   "id": "9fbc71e3-b652-42b5-b11f-c28407c26b76",
   "metadata": {},
   "outputs": [],
   "source": [
    "from dask.distributed import Client\n",
    "import dask.dataframe as dd\n",
    "import pandas as pd\n",
    "import time\n",
    "import statistics\n",
    "\n",
    "import xgboost as xgb\n",
    "import dask.array as da\n",
    "import dask.distributed"
   ]
  },
  {
   "cell_type": "code",
   "execution_count": 25,
   "id": "51e97381-353b-4286-aa13-c791f83fa6ef",
   "metadata": {},
   "outputs": [],
   "source": [
    "times=[]"
   ]
  },
  {
   "cell_type": "code",
   "execution_count": 26,
   "id": "c383d440-0e60-4bd7-b378-82d963406fdb",
   "metadata": {},
   "outputs": [
    {
     "name": "stdout",
     "output_type": "stream",
     "text": [
      "<Client: 'tcp://172.31.45.128:8786' processes=0 threads=0, memory=0 B>\n"
     ]
    }
   ],
   "source": [
    "client = Client('172.31.45.128:8786')\n",
    "client.restart()\n",
    "print(client)"
   ]
  },
  {
   "cell_type": "code",
   "execution_count": 27,
   "id": "5c299f52-5820-4752-8d17-5331fcced030",
   "metadata": {},
   "outputs": [],
   "source": [
    "data = dd.read_csv(\"/home/ubuntu/data.csv\", sample=2**20)\n",
    "data = data.persist()"
   ]
  },
  {
   "cell_type": "code",
   "execution_count": 28,
   "id": "3f28b2d5-56e2-43c3-9df4-c57967868b8d",
   "metadata": {},
   "outputs": [],
   "source": [
    "train, test = data.random_split([0.7, 0.3], random_state=42)"
   ]
  },
  {
   "cell_type": "code",
   "execution_count": 29,
   "id": "a49b87a5-2292-48eb-89ed-a625b9a36a45",
   "metadata": {},
   "outputs": [],
   "source": [
    "X_train = train.drop(labels=[\"tip_amount\"], axis=1).copy()\n",
    "Y_train = train[\"tip_amount\"].copy()"
   ]
  },
  {
   "cell_type": "code",
   "execution_count": 30,
   "id": "c5ccdb7f-8d89-4bf9-9b29-b6b48a6e18d5",
   "metadata": {},
   "outputs": [],
   "source": [
    "X_test = test.drop(labels=[\"tip_amount\"], axis=1).copy()\n",
    "Y_test = test[\"tip_amount\"].copy()"
   ]
  },
  {
   "cell_type": "markdown",
   "id": "24806337-05b3-4ff4-98ae-5f369fe333ee",
   "metadata": {},
   "source": [
    "# 10 Workers"
   ]
  },
  {
   "cell_type": "code",
   "execution_count": 8,
   "id": "9021fcd6-2a9f-40f7-8f33-69bef4b189b0",
   "metadata": {},
   "outputs": [
    {
     "name": "stdout",
     "output_type": "stream",
     "text": [
      "Training times for each run: [45.079017162323, 36.98415732383728, 37.29812169075012, 38.90826678276062, 38.73184633255005]\n"
     ]
    }
   ],
   "source": [
    "for i in range(5):\n",
    "    t0 = time.time()  # Start time\n",
    "\n",
    "    # Create DaskDMatrix object\n",
    "    dtrain = xgb.dask.DaskDMatrix(client, X_train, Y_train)\n",
    "\n",
    "    # Train the model\n",
    "    output = xgb.dask.train(client,\n",
    "                            {\"verbosity\": 2,\n",
    "                             \"tree_method\": \"hist\",\n",
    "                             \"objective\": \"reg:squarederror\"},\n",
    "                            dtrain,\n",
    "                            num_boost_round=100,\n",
    "                            evals=[(dtrain, \"train\")])\n",
    "\n",
    "    t1 = time.time()  # End time\n",
    "\n",
    "    # Calculate the duration and append to times list\n",
    "    times.append(t1 - t0)\n",
    "\n",
    "# Print out the times for each run\n",
    "print(\"Training times for each run:\", times)"
   ]
  },
  {
   "cell_type": "code",
   "execution_count": 9,
   "id": "b124286c-c100-47d5-9646-f3aaf821bdc4",
   "metadata": {},
   "outputs": [],
   "source": [
    "times=[]"
   ]
  },
  {
   "cell_type": "code",
   "execution_count": 10,
   "id": "549ef820-3146-4f40-854f-c2260845598d",
   "metadata": {},
   "outputs": [
    {
     "name": "stdout",
     "output_type": "stream",
     "text": [
      "Times for each run: [0.12967967987060547, 0.050623178482055664, 0.03557467460632324, 0.03759455680847168, 0.10413694381713867]\n"
     ]
    }
   ],
   "source": [
    "for i in range(5):\n",
    "    t0 = time.time()\n",
    "    prediction = xgb.dask.predict(client, output['booster'], X_test)\n",
    "    t1 = time.time()\n",
    "    times.append(t1-t0)\n",
    "print(\"Times for each run:\", times)"
   ]
  },
  {
   "cell_type": "code",
   "execution_count": 11,
   "id": "0a988357-87ae-4677-979e-0e1f04841f45",
   "metadata": {},
   "outputs": [
    {
     "name": "stdout",
     "output_type": "stream",
     "text": [
      "Mean Squared Error: 0.06752249726926332\n",
      "Root Mean Squared Error: 0.25985091354325335\n",
      "Mean Absolute Error: 0.045129086410789686\n"
     ]
    }
   ],
   "source": [
    "import dask.array as da\n",
    "\n",
    "# Assuming 'prediction' and 'Y_test' are defined properly\n",
    "Y_test_array = Y_test.to_dask_array(lengths=True)\n",
    "\n",
    "# Calculate Mean Squared Error\n",
    "mse = da.mean((prediction - Y_test_array) ** 2)\n",
    "rmse = da.sqrt(mse)\n",
    "\n",
    "# Calculate Mean Absolute Error\n",
    "mae = da.mean(da.absolute(prediction - Y_test_array))\n",
    "\n",
    "# Calculate R^2 Score\n",
    "ss_res = da.sum((prediction - Y_test_array) ** 2)\n",
    "ss_tot = da.sum((Y_test_array - da.mean(Y_test_array)) ** 2)\n",
    "r2_score = 1 - (ss_res / ss_tot)\n",
    "\n",
    "# Compute the results\n",
    "mse_result = mse.compute()\n",
    "rmse_result = rmse.compute()\n",
    "mae_result = mae.compute()\n",
    "r2_score_result = r2_score.compute()\n",
    "\n",
    "print(f\"Mean Squared Error: {mse_result}\")\n",
    "print(f\"Root Mean Squared Error: {rmse_result}\")\n",
    "print(f\"Mean Absolute Error: {mae_result}\")"
   ]
  },
  {
   "cell_type": "code",
   "execution_count": 12,
   "id": "66d2d440-374e-41ec-b8cf-f652f59e28a0",
   "metadata": {},
   "outputs": [
    {
     "data": {
      "text/plain": [
       "[0.12967967987060547,\n",
       " 0.050623178482055664,\n",
       " 0.03557467460632324,\n",
       " 0.03759455680847168,\n",
       " 0.10413694381713867]"
      ]
     },
     "execution_count": 12,
     "metadata": {},
     "output_type": "execute_result"
    }
   ],
   "source": [
    "times"
   ]
  },
  {
   "cell_type": "markdown",
   "id": "6c85aa06-892f-467c-939c-4853ac94a619",
   "metadata": {},
   "source": [
    "# 6 Workers"
   ]
  },
  {
   "cell_type": "code",
   "execution_count": 13,
   "id": "53a82776-b320-4dec-ab98-39abd084897d",
   "metadata": {},
   "outputs": [],
   "source": [
    "times=[]"
   ]
  },
  {
   "cell_type": "code",
   "execution_count": 14,
   "id": "f7ddeb94-ace2-434d-bc9b-fd53f7568b63",
   "metadata": {},
   "outputs": [
    {
     "name": "stdout",
     "output_type": "stream",
     "text": [
      "Training times for each run: [53.45803737640381, 52.990593671798706, 51.201730728149414, 50.17712068557739, 50.0114471912384]\n"
     ]
    }
   ],
   "source": [
    "for i in range(5):\n",
    "    t0 = time.time()  # Start time\n",
    "\n",
    "    # Create DaskDMatrix object\n",
    "    dtrain = xgb.dask.DaskDMatrix(client, X_train, Y_train)\n",
    "\n",
    "    # Train the model\n",
    "    output = xgb.dask.train(client,\n",
    "                            {\"verbosity\": 2,\n",
    "                             \"tree_method\": \"hist\",\n",
    "                             \"objective\": \"reg:squarederror\"},\n",
    "                            dtrain,\n",
    "                            num_boost_round=100,\n",
    "                            evals=[(dtrain, \"train\")])\n",
    "\n",
    "    t1 = time.time()  # End time\n",
    "\n",
    "    # Calculate the duration and append to times list\n",
    "    times.append(t1 - t0)\n",
    "\n",
    "# Print out the times for each run\n",
    "print(\"Training times for each run:\", times)"
   ]
  },
  {
   "cell_type": "code",
   "execution_count": 15,
   "id": "d1cdbd8d-209e-417e-986e-9af3e99923f9",
   "metadata": {},
   "outputs": [],
   "source": [
    "times=[]"
   ]
  },
  {
   "cell_type": "code",
   "execution_count": 16,
   "id": "b224c318-71f9-4ab6-bb2a-592fe2282562",
   "metadata": {},
   "outputs": [
    {
     "name": "stdout",
     "output_type": "stream",
     "text": [
      "Times for each run: [0.08875417709350586, 0.035497188568115234, 0.03751707077026367, 0.033303260803222656, 0.046210527420043945]\n"
     ]
    }
   ],
   "source": [
    "for i in range(5):\n",
    "    t0 = time.time()\n",
    "    prediction = xgb.dask.predict(client, output['booster'], X_test)\n",
    "    t1 = time.time()\n",
    "    times.append(t1-t0)\n",
    "print(\"Times for each run:\", times)"
   ]
  },
  {
   "cell_type": "code",
   "execution_count": 17,
   "id": "8022f00a-2742-4ba0-810b-4b5ebd13f175",
   "metadata": {},
   "outputs": [
    {
     "name": "stdout",
     "output_type": "stream",
     "text": [
      "Mean Squared Error: 0.07839371739342225\n",
      "Root Mean Squared Error: 0.27998878083491535\n",
      "Mean Absolute Error: 0.044996633338009434\n"
     ]
    }
   ],
   "source": [
    "Y_test_array = Y_test.to_dask_array(lengths=True)\n",
    "\n",
    "# Calculate Mean Squared Error\n",
    "mse = da.mean((prediction - Y_test_array) ** 2)\n",
    "rmse = da.sqrt(mse)\n",
    "\n",
    "# Calculate Mean Absolute Error\n",
    "mae = da.mean(da.absolute(prediction - Y_test_array))\n",
    "\n",
    "# Calculate R^2 Score\n",
    "ss_res = da.sum((Y_test_array - prediction) ** 2)\n",
    "ss_tot = da.sum((Y_test_array - da.mean(Y_test_array)) ** 2)\n",
    "r2_score = 1 - (ss_res / ss_tot)\n",
    "\n",
    "# Compute the results\n",
    "mse_result = mse.compute()\n",
    "rmse_result = rmse.compute()\n",
    "mae_result = mae.compute()\n",
    "r2_score_result = r2_score.compute()\n",
    "\n",
    "print(f\"Mean Squared Error: {mse_result}\")\n",
    "print(f\"Root Mean Squared Error: {rmse_result}\")\n",
    "print(f\"Mean Absolute Error: {mae_result}\")"
   ]
  },
  {
   "cell_type": "markdown",
   "id": "1df0cd41-5612-4d2f-920d-327c605db6b3",
   "metadata": {},
   "source": [
    "# 2 Workers"
   ]
  },
  {
   "cell_type": "code",
   "execution_count": 31,
   "id": "cb28abe3-f188-45a5-8e61-d619638a81bf",
   "metadata": {},
   "outputs": [],
   "source": [
    "times=[]"
   ]
  },
  {
   "cell_type": "code",
   "execution_count": 34,
   "id": "afd3f5e8-ec67-4a20-96d9-7c36a3a3c972",
   "metadata": {},
   "outputs": [
    {
     "name": "stdout",
     "output_type": "stream",
     "text": [
      "Training times for each run: [130.023770570755, 123.57611346244812, 124.13330554962158, 116.86070489883423]\n"
     ]
    }
   ],
   "source": [
    "for i in range(4):\n",
    "    t0 = time.time()  # Start time\n",
    "\n",
    "    # Create DaskDMatrix object\n",
    "    dtrain = xgb.dask.DaskDMatrix(client, X_train, Y_train)\n",
    "\n",
    "    # Train the model\n",
    "    output = xgb.dask.train(client,\n",
    "                            {\"verbosity\": 2,\n",
    "                             \"tree_method\": \"hist\",\n",
    "                             \"objective\": \"reg:squarederror\"},\n",
    "                            dtrain,\n",
    "                            num_boost_round=100,\n",
    "                            evals=[(dtrain, \"train\")])\n",
    "\n",
    "    t1 = time.time()  # End time\n",
    "\n",
    "    # Calculate the duration and append to times list\n",
    "    times.append(t1 - t0)\n",
    "\n",
    "# Print out the times for each run\n",
    "print(\"Training times for each run:\", times)"
   ]
  },
  {
   "cell_type": "code",
   "execution_count": 35,
   "id": "2a61b820-8de6-46b6-bb66-6d5e12ce6406",
   "metadata": {},
   "outputs": [],
   "source": [
    "times=[]"
   ]
  },
  {
   "cell_type": "code",
   "execution_count": 36,
   "id": "832207c9-4931-45f1-ac38-1f2ce391f03c",
   "metadata": {},
   "outputs": [
    {
     "name": "stdout",
     "output_type": "stream",
     "text": [
      "Times for each run: [0.06583309173583984, 0.030716419219970703, 0.03487348556518555, 0.03010106086730957, 0.031087398529052734]\n"
     ]
    }
   ],
   "source": [
    "for i in range(5):\n",
    "    t0 = time.time()\n",
    "    prediction = xgb.dask.predict(client, output['booster'], X_test)\n",
    "    t1 = time.time()\n",
    "    times.append(t1-t0)\n",
    "print(\"Times for each run:\", times)"
   ]
  },
  {
   "cell_type": "code",
   "execution_count": 37,
   "id": "9d1b42d9-3da4-4849-8aea-2eb0cf70f1ff",
   "metadata": {},
   "outputs": [
    {
     "name": "stdout",
     "output_type": "stream",
     "text": [
      "Mean Squared Error: 0.029384259835020448\n",
      "Root Mean Squared Error: 0.17141837659661943\n",
      "Mean Absolute Error: 0.04490424135963139\n"
     ]
    }
   ],
   "source": [
    "Y_test_array = Y_test.to_dask_array(lengths=True)\n",
    "\n",
    "# Calculate Mean Squared Error\n",
    "mse = da.mean((prediction - Y_test_array) ** 2)\n",
    "rmse = da.sqrt(mse)\n",
    "\n",
    "# Calculate Mean Absolute Error\n",
    "mae = da.mean(da.absolute(prediction - Y_test_array))\n",
    "\n",
    "# Calculate R^2 Score\n",
    "ss_res = da.sum((Y_test_array - prediction) ** 2)\n",
    "ss_tot = da.sum((Y_test_array - da.mean(Y_test_array)) ** 2)\n",
    "r2_score = 1 - (ss_res / ss_tot)\n",
    "\n",
    "# Compute the results\n",
    "mse_result = mse.compute()\n",
    "rmse_result = rmse.compute()\n",
    "mae_result = mae.compute()\n",
    "r2_score_result = r2_score.compute()\n",
    "\n",
    "print(f\"Mean Squared Error: {mse_result}\")\n",
    "print(f\"Root Mean Squared Error: {rmse_result}\")\n",
    "print(f\"Mean Absolute Error: {mae_result}\")"
   ]
  },
  {
   "cell_type": "code",
   "execution_count": null,
   "id": "bafc0745-35f8-45b8-b5c6-0bb8e3fb1418",
   "metadata": {},
   "outputs": [],
   "source": []
  }
 ],
 "metadata": {
  "kernelspec": {
   "display_name": "Python 3 (ipykernel)",
   "language": "python",
   "name": "python3"
  },
  "language_info": {
   "codemirror_mode": {
    "name": "ipython",
    "version": 3
   },
   "file_extension": ".py",
   "mimetype": "text/x-python",
   "name": "python",
   "nbconvert_exporter": "python",
   "pygments_lexer": "ipython3",
   "version": "3.10.12"
  }
 },
 "nbformat": 4,
 "nbformat_minor": 5
}
