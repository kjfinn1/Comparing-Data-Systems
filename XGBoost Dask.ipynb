{
 "cells": [
  {
   "cell_type": "code",
   "execution_count": 29,
   "id": "9fbc71e3-b652-42b5-b11f-c28407c26b76",
   "metadata": {},
   "outputs": [],
   "source": [
    "from dask.distributed import Client\n",
    "import dask.dataframe as dd\n",
    "import pandas as pd\n",
    "import time\n",
    "import statistics\n",
    "\n",
    "import xgboost as xgb\n",
    "import dask.array as da\n",
    "import dask.distributed"
   ]
  },
  {
   "cell_type": "code",
   "execution_count": 30,
   "id": "c383d440-0e60-4bd7-b378-82d963406fdb",
   "metadata": {},
   "outputs": [
    {
     "name": "stdout",
     "output_type": "stream",
     "text": [
      "<Client: 'tcp://172.31.45.128:8786' processes=0 threads=0, memory=0 B>\n"
     ]
    }
   ],
   "source": [
    "client = Client('172.31.45.128:8786')\n",
    "client.restart()\n",
    "print(client)"
   ]
  },
  {
   "cell_type": "code",
   "execution_count": 31,
   "id": "5c299f52-5820-4752-8d17-5331fcced030",
   "metadata": {},
   "outputs": [],
   "source": [
    "data = dd.read_csv(\"/home/ubuntu/data.csv\", sample=2**20)\n",
    "data = data.persist()"
   ]
  },
  {
   "cell_type": "code",
   "execution_count": 43,
   "id": "3f28b2d5-56e2-43c3-9df4-c57967868b8d",
   "metadata": {},
   "outputs": [],
   "source": [
    "train, test = data.random_split([0.7, 0.3], random_state=42)"
   ]
  },
  {
   "cell_type": "code",
   "execution_count": 44,
   "id": "a49b87a5-2292-48eb-89ed-a625b9a36a45",
   "metadata": {},
   "outputs": [],
   "source": [
    "X_train = train.drop(labels=[\"tip_amount\"], axis=1).copy()\n",
    "Y_train = train[\"tip_amount\"].copy()"
   ]
  },
  {
   "cell_type": "code",
   "execution_count": 47,
   "id": "c5ccdb7f-8d89-4bf9-9b29-b6b48a6e18d5",
   "metadata": {},
   "outputs": [],
   "source": [
    "X_test = test.drop(labels=[\"tip_amount\"], axis=1).copy()\n",
    "Y_test = test[\"tip_amount\"].copy()"
   ]
  },
  {
   "cell_type": "code",
   "execution_count": 48,
   "id": "9021fcd6-2a9f-40f7-8f33-69bef4b189b0",
   "metadata": {},
   "outputs": [],
   "source": [
    "dtrain = xgb.dask.DaskDMatrix(client,X_train,Y_train)\n",
    "output = xgb.dask.train(client\n",
    "               ,{\"verbosity\": 2\n",
    "                 , \"tree_method\": \"hist\"\n",
    "                 , \"objective\": \"reg:squarederror\"}, dtrain\n",
    "               , num_boost_round=4, evals=[(dtrain, \"train\")],\n",
    "    )"
   ]
  },
  {
   "cell_type": "code",
   "execution_count": 53,
   "id": "549ef820-3146-4f40-854f-c2260845598d",
   "metadata": {},
   "outputs": [],
   "source": [
    "prediction = xgb.dask.predict(client, output['booster'], X_test)"
   ]
  },
  {
   "cell_type": "code",
   "execution_count": 54,
   "id": "0a988357-87ae-4677-979e-0e1f04841f45",
   "metadata": {},
   "outputs": [
    {
     "name": "stdout",
     "output_type": "stream",
     "text": [
      "Mean Squared Error: 0.005478877054789918\n",
      "Root Mean Squared Error: 0.07401943700670735\n",
      "Mean Absolute Error: 0.04702530816817026\n",
      "R^2 Score: 0.29599577982509606\n"
     ]
    }
   ],
   "source": [
    "Y_test_array = Y_test.to_dask_array(lengths=True)\n",
    "\n",
    "# Calculate Mean Squared Error\n",
    "mse = da.mean((prediction - Y_test_array) ** 2)\n",
    "rmse = da.sqrt(mse)\n",
    "\n",
    "# Calculate Mean Absolute Error\n",
    "mae = da.mean(da.absolute(prediction - Y_test_array))\n",
    "\n",
    "# Calculate R^2 Score\n",
    "ss_res = da.sum((Y_test_array - prediction) ** 2)\n",
    "ss_tot = da.sum((Y_test_array - da.mean(Y_test_array)) ** 2)\n",
    "r2_score = 1 - (ss_res / ss_tot)\n",
    "\n",
    "# Compute the results\n",
    "mse_result = mse.compute()\n",
    "rmse_result = rmse.compute()\n",
    "mae_result = mae.compute()\n",
    "r2_score_result = r2_score.compute()\n",
    "\n",
    "print(f\"Mean Squared Error: {mse_result}\")\n",
    "print(f\"Root Mean Squared Error: {rmse_result}\")\n",
    "print(f\"Mean Absolute Error: {mae_result}\")\n",
    "print(f\"R^2 Score: {r2_score_result}\")"
   ]
  },
  {
   "cell_type": "code",
   "execution_count": null,
   "id": "66d2d440-374e-41ec-b8cf-f652f59e28a0",
   "metadata": {},
   "outputs": [],
   "source": []
  }
 ],
 "metadata": {
  "kernelspec": {
   "display_name": "Python 3 (ipykernel)",
   "language": "python",
   "name": "python3"
  },
  "language_info": {
   "codemirror_mode": {
    "name": "ipython",
    "version": 3
   },
   "file_extension": ".py",
   "mimetype": "text/x-python",
   "name": "python",
   "nbconvert_exporter": "python",
   "pygments_lexer": "ipython3",
   "version": "3.10.12"
  }
 },
 "nbformat": 4,
 "nbformat_minor": 5
}
