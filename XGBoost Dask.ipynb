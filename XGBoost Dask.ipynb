{
 "cells": [
  {
   "cell_type": "code",
   "execution_count": 11,
   "id": "9fbc71e3-b652-42b5-b11f-c28407c26b76",
   "metadata": {},
   "outputs": [],
   "source": [
    "from dask.distributed import Client\n",
    "import dask.dataframe as dd\n",
    "import pandas as pd\n",
    "import time\n",
    "import statistics\n",
    "\n",
    "import xgboost as xgb\n",
    "import dask.array as da\n",
    "import dask.distributed"
   ]
  },
  {
   "cell_type": "code",
   "execution_count": 12,
   "id": "51e97381-353b-4286-aa13-c791f83fa6ef",
   "metadata": {},
   "outputs": [],
   "source": [
    "times=[]"
   ]
  },
  {
   "cell_type": "code",
   "execution_count": 13,
   "id": "c383d440-0e60-4bd7-b378-82d963406fdb",
   "metadata": {},
   "outputs": [
    {
     "name": "stdout",
     "output_type": "stream",
     "text": [
      "<Client: 'tcp://172.31.45.128:8786' processes=0 threads=0, memory=0 B>\n"
     ]
    }
   ],
   "source": [
    "client = Client('172.31.45.128:8786')\n",
    "client.restart()\n",
    "print(client)"
   ]
  },
  {
   "cell_type": "code",
   "execution_count": 14,
   "id": "5c299f52-5820-4752-8d17-5331fcced030",
   "metadata": {},
   "outputs": [],
   "source": [
    "data = dd.read_csv(\"/home/ubuntu/data.csv\", sample=2**20)\n",
    "data = data.persist()"
   ]
  },
  {
   "cell_type": "code",
   "execution_count": 15,
   "id": "3f28b2d5-56e2-43c3-9df4-c57967868b8d",
   "metadata": {},
   "outputs": [],
   "source": [
    "train, test = data.random_split([0.7, 0.3], random_state=42)"
   ]
  },
  {
   "cell_type": "code",
   "execution_count": 16,
   "id": "a49b87a5-2292-48eb-89ed-a625b9a36a45",
   "metadata": {},
   "outputs": [],
   "source": [
    "X_train = train.drop(labels=[\"tip_amount\"], axis=1).copy()\n",
    "Y_train = train[\"tip_amount\"].copy()"
   ]
  },
  {
   "cell_type": "code",
   "execution_count": 17,
   "id": "c5ccdb7f-8d89-4bf9-9b29-b6b48a6e18d5",
   "metadata": {},
   "outputs": [],
   "source": [
    "X_test = test.drop(labels=[\"tip_amount\"], axis=1).copy()\n",
    "Y_test = test[\"tip_amount\"].copy()"
   ]
  },
  {
   "attachments": {},
   "cell_type": "markdown",
   "id": "24806337-05b3-4ff4-98ae-5f369fe333ee",
   "metadata": {},
   "source": [
    "# 10 Workers"
   ]
  },
  {
   "cell_type": "code",
   "execution_count": 18,
   "id": "9021fcd6-2a9f-40f7-8f33-69bef4b189b0",
   "metadata": {},
   "outputs": [],
   "source": [
    "t0 = time.time()\n",
    "dtrain = xgb.dask.DaskDMatrix(client,X_train,Y_train)\n",
    "output = xgb.dask.train(client\n",
    "               ,{\"verbosity\": 2\n",
    "                 , \"tree_method\": \"hist\"\n",
    "                 , \"objective\": \"reg:squarederror\"}, dtrain\n",
    "               , num_boost_round=6, evals=[(dtrain, \"train\")],)\n",
    "t1 = time.time()\n",
    "times.append(t1-t0)"
   ]
  },
  {
   "cell_type": "code",
   "execution_count": 19,
   "id": "549ef820-3146-4f40-854f-c2260845598d",
   "metadata": {},
   "outputs": [],
   "source": [
    "t0 = time.time()\n",
    "prediction = xgb.dask.predict(client, output['booster'], X_test)\n",
    "t1 = time.time()\n",
    "times.append(t1-t0)"
   ]
  },
  {
   "cell_type": "code",
   "execution_count": 20,
   "id": "0a988357-87ae-4677-979e-0e1f04841f45",
   "metadata": {},
   "outputs": [
    {
     "name": "stdout",
     "output_type": "stream",
     "text": [
      "Mean Squared Error: 0.017532391298928442\n",
      "Root Mean Squared Error: 0.13240993655662117\n",
      "Mean Absolute Error: 0.046429214322379835\n",
      "R^2 Score: -1.2528115416301606\n"
     ]
    }
   ],
   "source": [
    "Y_test_array = Y_test.to_dask_array(lengths=True)\n",
    "\n",
    "# Calculate Mean Squared Error\n",
    "mse = da.mean((prediction - Y_test_array) ** 2)\n",
    "rmse = da.sqrt(mse)\n",
    "\n",
    "# Calculate Mean Absolute Error\n",
    "mae = da.mean(da.absolute(prediction - Y_test_array))\n",
    "\n",
    "# Calculate R^2 Score\n",
    "ss_res = da.sum((Y_test_array - prediction) ** 2)\n",
    "ss_tot = da.sum((Y_test_array - da.mean(Y_test_array)) ** 2)\n",
    "r2_score = 1 - (ss_res / ss_tot)\n",
    "\n",
    "# Compute the results\n",
    "mse_result = mse.compute()\n",
    "rmse_result = rmse.compute()\n",
    "mae_result = mae.compute()\n",
    "r2_score_result = r2_score.compute()\n",
    "\n",
    "print(f\"Mean Squared Error: {mse_result}\")\n",
    "print(f\"Root Mean Squared Error: {rmse_result}\")\n",
    "print(f\"Mean Absolute Error: {mae_result}\")\n",
    "print(f\"R^2 Score: {r2_score_result}\")"
   ]
  },
  {
   "cell_type": "code",
   "execution_count": 21,
   "id": "66d2d440-374e-41ec-b8cf-f652f59e28a0",
   "metadata": {},
   "outputs": [
    {
     "data": {
      "text/plain": [
       "[10.303650140762329, 0.0752871036529541]"
      ]
     },
     "execution_count": 21,
     "metadata": {},
     "output_type": "execute_result"
    }
   ],
   "source": [
    "times"
   ]
  },
  {
   "attachments": {},
   "cell_type": "markdown",
   "id": "6c85aa06-892f-467c-939c-4853ac94a619",
   "metadata": {},
   "source": [
    "# 6 Workers"
   ]
  },
  {
   "cell_type": "code",
   "execution_count": 22,
   "id": "f7ddeb94-ace2-434d-bc9b-fd53f7568b63",
   "metadata": {},
   "outputs": [],
   "source": [
    "t0 = time.time()\n",
    "dtrain = xgb.dask.DaskDMatrix(client,X_train,Y_train)\n",
    "output = xgb.dask.train(client\n",
    "               ,{\"verbosity\": 2\n",
    "                 , \"tree_method\": \"hist\"\n",
    "                 , \"objective\": \"reg:squarederror\"}, dtrain\n",
    "               , num_boost_round=6, evals=[(dtrain, \"train\")],)\n",
    "t1 = time.time()\n",
    "times.append(t1-t0)"
   ]
  },
  {
   "cell_type": "code",
   "execution_count": 23,
   "id": "b224c318-71f9-4ab6-bb2a-592fe2282562",
   "metadata": {},
   "outputs": [],
   "source": [
    "t0 = time.time()\n",
    "prediction = xgb.dask.predict(client, output['booster'], X_test)\n",
    "t1 = time.time()\n",
    "times.append(t1-t0)"
   ]
  },
  {
   "cell_type": "code",
   "execution_count": 24,
   "id": "8022f00a-2742-4ba0-810b-4b5ebd13f175",
   "metadata": {},
   "outputs": [
    {
     "name": "stdout",
     "output_type": "stream",
     "text": [
      "Mean Squared Error: 0.017536946858902676\n",
      "Root Mean Squared Error: 0.1324271379246062\n",
      "Mean Absolute Error: 0.04644523558185246\n",
      "R^2 Score: -1.2533969049108196\n"
     ]
    }
   ],
   "source": [
    "Y_test_array = Y_test.to_dask_array(lengths=True)\n",
    "\n",
    "# Calculate Mean Squared Error\n",
    "mse = da.mean((prediction - Y_test_array) ** 2)\n",
    "rmse = da.sqrt(mse)\n",
    "\n",
    "# Calculate Mean Absolute Error\n",
    "mae = da.mean(da.absolute(prediction - Y_test_array))\n",
    "\n",
    "# Calculate R^2 Score\n",
    "ss_res = da.sum((Y_test_array - prediction) ** 2)\n",
    "ss_tot = da.sum((Y_test_array - da.mean(Y_test_array)) ** 2)\n",
    "r2_score = 1 - (ss_res / ss_tot)\n",
    "\n",
    "# Compute the results\n",
    "mse_result = mse.compute()\n",
    "rmse_result = rmse.compute()\n",
    "mae_result = mae.compute()\n",
    "r2_score_result = r2_score.compute()\n",
    "\n",
    "print(f\"Mean Squared Error: {mse_result}\")\n",
    "print(f\"Root Mean Squared Error: {rmse_result}\")\n",
    "print(f\"Mean Absolute Error: {mae_result}\")\n",
    "print(f\"R^2 Score: {r2_score_result}\")"
   ]
  },
  {
   "cell_type": "code",
   "execution_count": 25,
   "id": "a16d1512-5e34-4162-b630-d17b53d7ce39",
   "metadata": {},
   "outputs": [
    {
     "data": {
      "text/plain": [
       "[10.303650140762329,\n",
       " 0.0752871036529541,\n",
       " 8.947437524795532,\n",
       " 0.10448265075683594]"
      ]
     },
     "execution_count": 25,
     "metadata": {},
     "output_type": "execute_result"
    }
   ],
   "source": [
    "times"
   ]
  },
  {
   "attachments": {},
   "cell_type": "markdown",
   "id": "1df0cd41-5612-4d2f-920d-327c605db6b3",
   "metadata": {},
   "source": [
    "# 2 Workers"
   ]
  },
  {
   "cell_type": "code",
   "execution_count": 26,
   "id": "11e18fc5-da4c-4e4c-91f8-5cceed6582b0",
   "metadata": {},
   "outputs": [],
   "source": [
    "t0 = time.time()\n",
    "dtrain = xgb.dask.DaskDMatrix(client,X_train,Y_train)\n",
    "output = xgb.dask.train(client\n",
    "               ,{\"verbosity\": 2\n",
    "                 , \"tree_method\": \"hist\"\n",
    "                 , \"objective\": \"reg:squarederror\"}, dtrain\n",
    "               , num_boost_round=6, evals=[(dtrain, \"train\")],)\n",
    "t1 = time.time()\n",
    "times.append(t1-t0)"
   ]
  },
  {
   "cell_type": "code",
   "execution_count": 27,
   "id": "832207c9-4931-45f1-ac38-1f2ce391f03c",
   "metadata": {},
   "outputs": [],
   "source": [
    "t0 = time.time()\n",
    "prediction = xgb.dask.predict(client, output['booster'], X_test)\n",
    "t1 = time.time()\n",
    "times.append(t1-t0)"
   ]
  },
  {
   "cell_type": "code",
   "execution_count": 28,
   "id": "9d1b42d9-3da4-4849-8aea-2eb0cf70f1ff",
   "metadata": {},
   "outputs": [
    {
     "name": "stdout",
     "output_type": "stream",
     "text": [
      "Mean Squared Error: 0.017532796221959506\n",
      "Root Mean Squared Error: 0.1324114655985633\n",
      "Mean Absolute Error: 0.046429648360056135\n",
      "R^2 Score: -1.2528635719129841\n"
     ]
    }
   ],
   "source": [
    "Y_test_array = Y_test.to_dask_array(lengths=True)\n",
    "\n",
    "# Calculate Mean Squared Error\n",
    "mse = da.mean((prediction - Y_test_array) ** 2)\n",
    "rmse = da.sqrt(mse)\n",
    "\n",
    "# Calculate Mean Absolute Error\n",
    "mae = da.mean(da.absolute(prediction - Y_test_array))\n",
    "\n",
    "# Calculate R^2 Score\n",
    "ss_res = da.sum((Y_test_array - prediction) ** 2)\n",
    "ss_tot = da.sum((Y_test_array - da.mean(Y_test_array)) ** 2)\n",
    "r2_score = 1 - (ss_res / ss_tot)\n",
    "\n",
    "# Compute the results\n",
    "mse_result = mse.compute()\n",
    "rmse_result = rmse.compute()\n",
    "mae_result = mae.compute()\n",
    "r2_score_result = r2_score.compute()\n",
    "\n",
    "print(f\"Mean Squared Error: {mse_result}\")\n",
    "print(f\"Root Mean Squared Error: {rmse_result}\")\n",
    "print(f\"Mean Absolute Error: {mae_result}\")\n",
    "print(f\"R^2 Score: {r2_score_result}\")"
   ]
  },
  {
   "cell_type": "code",
   "execution_count": 29,
   "id": "189f5604-d9dc-4143-b4f2-5352e308e0a6",
   "metadata": {},
   "outputs": [
    {
     "data": {
      "text/plain": [
       "[10.303650140762329,\n",
       " 0.0752871036529541,\n",
       " 8.947437524795532,\n",
       " 0.10448265075683594,\n",
       " 20.11827850341797,\n",
       " 0.06145668029785156]"
      ]
     },
     "execution_count": 29,
     "metadata": {},
     "output_type": "execute_result"
    }
   ],
   "source": [
    "times"
   ]
  }
 ],
 "metadata": {
  "kernelspec": {
   "display_name": "Python 3 (ipykernel)",
   "language": "python",
   "name": "python3"
  },
  "language_info": {
   "codemirror_mode": {
    "name": "ipython",
    "version": 3
   },
   "file_extension": ".py",
   "mimetype": "text/x-python",
   "name": "python",
   "nbconvert_exporter": "python",
   "pygments_lexer": "ipython3",
   "version": "3.10.12"
  }
 },
 "nbformat": 4,
 "nbformat_minor": 5
}
