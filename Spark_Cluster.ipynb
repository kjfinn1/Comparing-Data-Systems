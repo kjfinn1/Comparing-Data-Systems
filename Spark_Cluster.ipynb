{
 "cells": [
  {
   "cell_type": "code",
   "execution_count": 1,
   "id": "5d7e6313-0b6f-4a05-a3ae-df6a1e6ab91c",
   "metadata": {},
   "outputs": [
    {
     "data": {
      "text/plain": [
       "'/home/ubuntu/spark-3.3.1-bin-hadoop3'"
      ]
     },
     "execution_count": 1,
     "metadata": {},
     "output_type": "execute_result"
    }
   ],
   "source": [
    "import findspark\n",
    "findspark.init('/home/ubuntu/spark-3.3.1-bin-hadoop3')\n",
    "findspark.find()"
   ]
  },
  {
   "cell_type": "code",
   "execution_count": 2,
   "id": "bc08e96c-2a1a-4a4f-aecd-4e2ac6401e5b",
   "metadata": {},
   "outputs": [],
   "source": [
    "from pyspark.sql import SparkSession\n",
    "from pyspark.sql.functions import asc\n",
    "from pyspark.ml.clustering import KMeans\n",
    "from pyspark.ml.feature import VectorAssembler\n",
    "from pyspark.sql.types import IntegerType\n",
    "from pyspark.ml.evaluation import ClusteringEvaluator\n",
    "import time\n",
    "import statistics"
   ]
  },
  {
   "cell_type": "code",
   "execution_count": 3,
   "id": "4770f49a-9b02-40ac-aa8e-c6f91e078b83",
   "metadata": {},
   "outputs": [
    {
     "name": "stderr",
     "output_type": "stream",
     "text": [
      "Setting default log level to \"WARN\".\n",
      "To adjust logging level use sc.setLogLevel(newLevel). For SparkR, use setLogLevel(newLevel).\n"
     ]
    },
    {
     "name": "stdout",
     "output_type": "stream",
     "text": [
      "24/04/20 17:27:12 WARN NativeCodeLoader: Unable to load native-hadoop library for your platform... using builtin-java classes where applicable\n"
     ]
    }
   ],
   "source": [
    "# The entry point into all functionality in Spark is the SparkSession class.\n",
    "spark = (SparkSession\n",
    "\t.builder\n",
    "\t.appName(\"Spark K-Means Clustering\")\n",
    "\t.master(\"spark://172.31.23.190:7077\")\n",
    "\t.config(\"spark.executor.memory\", \"1024M\")\n",
    "\t.getOrCreate())"
   ]
  },
  {
   "cell_type": "code",
   "execution_count": 4,
   "id": "d90fb0df-7aa5-489e-b9da-6547c64d5c3f",
   "metadata": {},
   "outputs": [
    {
     "name": "stderr",
     "output_type": "stream",
     "text": [
      "                                                                                \r"
     ]
    }
   ],
   "source": [
    "data = spark.read.csv(\"hdfs://172.31.23.190:9000/Q1.csv\", header=True, inferSchema=True)"
   ]
  },
  {
   "cell_type": "code",
   "execution_count": 5,
   "id": "62c32dfb-808f-40f4-ba73-16e6ca4fadce",
   "metadata": {},
   "outputs": [],
   "source": [
    "# Assemble features into a single column\n",
    "feature_columns = data.columns\n",
    "vector_assembler = VectorAssembler(inputCols=feature_columns, outputCol=\"features\")\n",
    "data = vector_assembler.transform(data)"
   ]
  },
  {
   "cell_type": "code",
   "execution_count": 6,
   "id": "f8fc2e11-619f-4041-ba6a-8da274475c7d",
   "metadata": {},
   "outputs": [],
   "source": [
    "clusters = [2,4,6,8,10]\n",
    "times = []\n",
    "silhouettes = []"
   ]
  },
  {
   "cell_type": "code",
   "execution_count": 7,
   "id": "72d33efe-fc5a-4bc4-8e22-8ba0224ccc33",
   "metadata": {},
   "outputs": [
    {
     "name": "stderr",
     "output_type": "stream",
     "text": [
      "                                                                                \r"
     ]
    }
   ],
   "source": [
    "t0 = time.time()\n",
    "# Train KMeans model\n",
    "for k in clusters:\n",
    "    kmeans = KMeans(k=k, seed=42)  # Set the number of clusters (k) as needed\n",
    "    model = kmeans.fit(data)\n",
    "    \n",
    "    # Make predictions\n",
    "    predictions = model.transform(data)\n",
    "    \n",
    "    # Show the cluster centers\n",
    "    centers = model.clusterCenters()\n",
    "    \n",
    "    evaluator = ClusteringEvaluator()\n",
    "    \n",
    "    silhouette_score = evaluator.evaluate(predictions)\n",
    "    silhouettes.append((k, silhouette_score))\n",
    "t1 = time.time()\n",
    "times.append(t1-t0)"
   ]
  },
  {
   "cell_type": "code",
   "execution_count": 8,
   "id": "01354780-0740-4950-ae6c-1bcfa5b2d85c",
   "metadata": {},
   "outputs": [
    {
     "name": "stdout",
     "output_type": "stream",
     "text": [
      "[2676.4273891448975]\n"
     ]
    }
   ],
   "source": [
    "print(times)"
   ]
  },
  {
   "cell_type": "code",
   "execution_count": 9,
   "id": "c9d87db6-94cb-4efc-acfb-b441c448a6e2",
   "metadata": {},
   "outputs": [
    {
     "name": "stderr",
     "output_type": "stream",
     "text": [
      "                                                                                \r"
     ]
    }
   ],
   "source": [
    "t0 = time.time()\n",
    "# Train KMeans model\n",
    "for k in clusters:\n",
    "    kmeans = KMeans(k=k, seed=42)  # Set the number of clusters (k) as needed\n",
    "    model = kmeans.fit(data)\n",
    "    \n",
    "    # Make predictions\n",
    "    predictions = model.transform(data)\n",
    "    \n",
    "    # Show the cluster centers\n",
    "    centers = model.clusterCenters()\n",
    "    \n",
    "    evaluator = ClusteringEvaluator()\n",
    "    \n",
    "    silhouette_score = evaluator.evaluate(predictions)\n",
    "    silhouettes.append((k, silhouette_score))\n",
    "t1 = time.time()\n",
    "times.append(t1-t0)"
   ]
  },
  {
   "cell_type": "code",
   "execution_count": 10,
   "id": "646a81fe-4849-4329-830f-3a33a82a6c5b",
   "metadata": {},
   "outputs": [
    {
     "name": "stdout",
     "output_type": "stream",
     "text": [
      "[2676.4273891448975, 2693.7627441883087]\n"
     ]
    }
   ],
   "source": [
    "print(times)"
   ]
  },
  {
   "cell_type": "code",
   "execution_count": null,
   "id": "46835639-68cd-4e1e-b4e3-b6a815df32d7",
   "metadata": {},
   "outputs": [
    {
     "name": "stderr",
     "output_type": "stream",
     "text": [
      "[Stage 531:============>                                            (2 + 4) / 9]\r"
     ]
    }
   ],
   "source": [
    "t0 = time.time()\n",
    "# Train KMeans model\n",
    "for k in clusters:\n",
    "    kmeans = KMeans(k=k, seed=42)  # Set the number of clusters (k) as needed\n",
    "    model = kmeans.fit(data)\n",
    "    \n",
    "    # Make predictions\n",
    "    predictions = model.transform(data)\n",
    "    \n",
    "    # Show the cluster centers\n",
    "    centers = model.clusterCenters()\n",
    "    \n",
    "    evaluator = ClusteringEvaluator()\n",
    "    \n",
    "    silhouette_score = evaluator.evaluate(predictions)\n",
    "    silhouettes.append((k, silhouette_score))\n",
    "t1 = time.time()\n",
    "times.append(t1-t0)"
   ]
  },
  {
   "cell_type": "code",
   "execution_count": null,
   "id": "c2dcafdc-8667-4b33-a035-c56b3bc52203",
   "metadata": {},
   "outputs": [],
   "source": [
    "print(times)"
   ]
  },
  {
   "cell_type": "code",
   "execution_count": null,
   "id": "45f6d90b-89ff-4c85-8920-15bf6fc7a7bf",
   "metadata": {},
   "outputs": [],
   "source": [
    "t0 = time.time()\n",
    "# Train KMeans model\n",
    "for k in clusters:\n",
    "    kmeans = KMeans(k=k, seed=42)  # Set the number of clusters (k) as needed\n",
    "    model = kmeans.fit(data)\n",
    "    \n",
    "    # Make predictions\n",
    "    predictions = model.transform(data)\n",
    "    \n",
    "    # Show the cluster centers\n",
    "    centers = model.clusterCenters()\n",
    "    \n",
    "    evaluator = ClusteringEvaluator()\n",
    "    \n",
    "    silhouette_score = evaluator.evaluate(predictions)\n",
    "    silhouettes.append((k, silhouette_score))\n",
    "t1 = time.time()\n",
    "times.append(t1-t0)"
   ]
  },
  {
   "cell_type": "code",
   "execution_count": null,
   "id": "918e4b2b-b23b-429c-85b7-78a5049233b5",
   "metadata": {},
   "outputs": [],
   "source": [
    "print(times)"
   ]
  },
  {
   "cell_type": "code",
   "execution_count": null,
   "id": "7429d27d-5b71-4980-82a8-fa0533b539fa",
   "metadata": {},
   "outputs": [],
   "source": [
    "t0 = time.time()\n",
    "# Train KMeans model\n",
    "for k in clusters:\n",
    "    kmeans = KMeans(k=k, seed=42)  # Set the number of clusters (k) as needed\n",
    "    model = kmeans.fit(data)\n",
    "    \n",
    "    # Make predictions\n",
    "    predictions = model.transform(data)\n",
    "    \n",
    "    # Show the cluster centers\n",
    "    centers = model.clusterCenters()\n",
    "    \n",
    "    evaluator = ClusteringEvaluator()\n",
    "    \n",
    "    silhouette_score = evaluator.evaluate(predictions)\n",
    "    silhouettes.append((k, silhouette_score))\n",
    "t1 = time.time()\n",
    "times.append(t1-t0)"
   ]
  },
  {
   "cell_type": "code",
   "execution_count": 1,
   "id": "c3d7456b-8107-4ed8-b133-8f9a0f8a6ce9",
   "metadata": {},
   "outputs": [
    {
     "ename": "NameError",
     "evalue": "name 'statistics' is not defined",
     "output_type": "error",
     "traceback": [
      "\u001b[0;31m---------------------------------------------------------------------------\u001b[0m",
      "\u001b[0;31mNameError\u001b[0m                                 Traceback (most recent call last)",
      "Cell \u001b[0;32mIn[1], line 1\u001b[0m\n\u001b[0;32m----> 1\u001b[0m \u001b[43mstatistics\u001b[49m\u001b[38;5;241m.\u001b[39mmean(times)\n",
      "\u001b[0;31mNameError\u001b[0m: name 'statistics' is not defined"
     ]
    }
   ],
   "source": [
    "statistics.mean(times)"
   ]
  },
  {
   "cell_type": "code",
   "execution_count": null,
   "id": "49ebda8d-c167-4a82-84e0-b05224621a23",
   "metadata": {},
   "outputs": [],
   "source": [
    "times"
   ]
  },
  {
   "cell_type": "code",
   "execution_count": null,
   "id": "18b27e66-c5f5-48ae-a5b5-c3a109b25ef6",
   "metadata": {},
   "outputs": [],
   "source": []
  }
 ],
 "metadata": {
  "kernelspec": {
   "display_name": "Python 3 (ipykernel)",
   "language": "python",
   "name": "python3"
  },
  "language_info": {
   "codemirror_mode": {
    "name": "ipython",
    "version": 3
   },
   "file_extension": ".py",
   "mimetype": "text/x-python",
   "name": "python",
   "nbconvert_exporter": "python",
   "pygments_lexer": "ipython3",
   "version": "3.10.12"
  }
 },
 "nbformat": 4,
 "nbformat_minor": 5
}
