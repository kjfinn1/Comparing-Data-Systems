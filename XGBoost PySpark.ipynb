{
 "cells": [
  {
   "cell_type": "code",
   "execution_count": 5,
   "id": "6ab37985-37ab-4185-ab47-ad19b935831d",
   "metadata": {},
   "outputs": [],
   "source": [
    "from xgboost.spark import SparkXGBRegressor"
   ]
  },
  {
   "cell_type": "code",
   "execution_count": 6,
   "id": "201ec3fb",
   "metadata": {},
   "outputs": [],
   "source": [
    "times=[]\n",
    "import time\n",
    "from pyspark.ml.evaluation import RegressionEvaluator"
   ]
  },
  {
   "cell_type": "code",
   "execution_count": 7,
   "id": "0d9f194d-524e-49e9-9620-563295910450",
   "metadata": {},
   "outputs": [
    {
     "name": "stderr",
     "output_type": "stream",
     "text": [
      "[Stage 4:====================================================>      (8 + 1) / 9]\r"
     ]
    },
    {
     "name": "stdout",
     "output_type": "stream",
     "text": [
      "root\n",
      " |-- trip_distance: double (nullable = true)\n",
      " |-- passenger_count: integer (nullable = true)\n",
      " |-- PULocationID: integer (nullable = true)\n",
      " |-- DOLocationID: integer (nullable = true)\n",
      " |-- tip_amount: double (nullable = true)\n",
      " |-- pickup_hour: integer (nullable = true)\n",
      "\n",
      "+--------------------+---------------+------------+------------+--------------------+-----------+\n",
      "|       trip_distance|passenger_count|PULocationID|DOLocationID|          tip_amount|pickup_hour|\n",
      "+--------------------+---------------+------------+------------+--------------------+-----------+\n",
      "| -0.3661467419730907|              1|         151|         239|-0.01412124292201...|          0|\n",
      "|-0.07707474953506906|              1|         239|         246|-0.03583707603552034|          0|\n",
      "|  -0.760335822570393|              3|         236|         236|-0.06924605005629836|         13|\n",
      "|  -0.760335822570393|              5|         193|         193|-0.06924605005629836|         15|\n",
      "|  -0.760335822570393|              5|         193|         193|-0.06924605005629836|         15|\n",
      "+--------------------+---------------+------------+------------+--------------------+-----------+\n",
      "only showing top 5 rows\n",
      "\n"
     ]
    },
    {
     "name": "stderr",
     "output_type": "stream",
     "text": [
      "                                                                                \r"
     ]
    }
   ],
   "source": [
    "from pyspark.sql import SparkSession\n",
    "\n",
    "# Create a SparkSession\n",
    "spark = SparkSession.builder \\\n",
    "    .appName(\"data.csv\") \\\n",
    "    .getOrCreate()\n",
    "\n",
    "# Read the CSV file into a Spark DataFrame\n",
    "file_path = \"/home/ubuntu/data.csv\"  # Replace this with the path to your CSV file\n",
    "train_spark_dataframe = spark.read.csv(file_path, header=True, inferSchema=True)\n",
    "\n",
    "# Show the schema and the first few rows of the DataFrame\n",
    "train_spark_dataframe.printSchema()\n",
    "train_spark_dataframe.show(5)"
   ]
  },
  {
   "cell_type": "code",
   "execution_count": 8,
   "id": "4b6305b8-9438-4826-9929-17a449d0a2f8",
   "metadata": {},
   "outputs": [],
   "source": [
    "from pyspark.sql import SparkSession\n",
    "from pyspark.ml.feature import VectorAssembler\n",
    "\n",
    "# Start Spark session if it's not already started\n",
    "# Uncomment the next two lines if the Spark session isn't initialized\n",
    "# spark = SparkSession.builder \\\n",
    "#     .appName(\"Tip Prediction Model\") \\\n",
    "#     .getOrCreate()\n",
    "\n",
    "# Define the assembler with the input columns that will be features\n",
    "assembler = VectorAssembler(\n",
    "    inputCols=[\"trip_distance\", \"passenger_count\", \"PULocationID\", \"DOLocationID\", \"pickup_hour\"],\n",
    "    outputCol=\"features\"\n",
    ")\n",
    "\n",
    "# Assuming 'train_spark_dataframe' is already loaded and defined\n",
    "# Transform the data to create feature vectors\n",
    "transformed_dataframe = assembler.transform(train_spark_dataframe)\n",
    "\n",
    "# Select only the necessary columns, including the newly created 'features' and the label 'tip_amount'\n",
    "final_dataframe = transformed_dataframe.select(\"features\", \"tip_amount\")\n",
    "\n",
    "# Split the data approximately into 70% training and 30% testing\n",
    "train_data, test_data = final_dataframe.randomSplit([0.7, 0.3], seed=42)"
   ]
  },
  {
   "cell_type": "markdown",
   "id": "0c879f59-ae90-4df0-a036-936bab56dd1b",
   "metadata": {},
   "source": [
    "# 10 Workers"
   ]
  },
  {
   "cell_type": "code",
   "execution_count": 9,
   "id": "e43b4db9-ae7a-45db-b7bc-65d059230d1a",
   "metadata": {},
   "outputs": [],
   "source": [
    "times = []"
   ]
  },
  {
   "cell_type": "code",
   "execution_count": 10,
   "id": "df825e22-ac03-4121-bc37-94d1111eb604",
   "metadata": {},
   "outputs": [
    {
     "name": "stdout",
     "output_type": "stream",
     "text": [
      "Training times for each run: [0.0011959075927734375, 0.0007948875427246094, 0.0007452964782714844, 0.0007405281066894531, 0.0007779598236083984]\n"
     ]
    }
   ],
   "source": [
    "for i in range(5):\n",
    "    t0 = time.time()\n",
    "# Create an instance of SparkXGBRegressor\n",
    "    xgb_regressor = SparkXGBRegressor(\n",
    "    features_col=\"features\",\n",
    "    label_col=\"tip_amount\",\n",
    "    prediction_col=\"predicted_tip_amount\",\n",
    "    objective=\"reg:squarederror\",\n",
    "    numWorkers=10,\n",
    "    eta=0.1\n",
    "    )\n",
    "    t1 = time.time()\n",
    "    times.append(t1-t0)\n",
    "print(\"Training times for each run:\", times)"
   ]
  },
  {
   "cell_type": "code",
   "execution_count": 11,
   "id": "e2ffbb60-2e52-4d7e-93d9-08dd6430c460",
   "metadata": {},
   "outputs": [],
   "source": [
    "times = []"
   ]
  },
  {
   "cell_type": "code",
   "execution_count": 12,
   "id": "94474f06-a5a4-416f-8f55-57a41091f6d2",
   "metadata": {},
   "outputs": [
    {
     "name": "stderr",
     "output_type": "stream",
     "text": [
      "2024-04-21 21:31:37,519 INFO XGBoost-PySpark: _fit Running xgboost-2.0.3 on 1 workers with\n",
      "\tbooster params: {'objective': 'reg:squarederror', 'device': 'cpu', 'numWorkers': 10, 'eta': 0.1, 'nthread': 1}\n",
      "\ttrain_call_kwargs_params: {'verbose_eval': True, 'num_boost_round': 100}\n",
      "\tdmatrix_kwargs: {'nthread': 1, 'missing': nan}\n",
      "[21:34:04] task 0 got new rank 0                                    (0 + 1) / 1]\n",
      "/home/ubuntu/.local/lib/python3.10/site-packages/xgboost/core.py:160: UserWarning: [21:34:39] WARNING: /workspace/src/learner.cc:742: \n",
      "Parameters: { \"numWorkers\" } are not used.\n",
      "\n",
      "  warnings.warn(smsg, UserWarning)\n",
      "2024-04-21 21:36:11,902 INFO XGBoost-PySpark: _fit Finished xgboost training!   \n",
      "2024-04-21 21:36:12,093 INFO XGBoost-PySpark: _fit Running xgboost-2.0.3 on 1 workers with\n",
      "\tbooster params: {'objective': 'reg:squarederror', 'device': 'cpu', 'numWorkers': 10, 'eta': 0.1, 'nthread': 1}\n",
      "\ttrain_call_kwargs_params: {'verbose_eval': True, 'num_boost_round': 100}\n",
      "\tdmatrix_kwargs: {'nthread': 1, 'missing': nan}\n",
      "[21:38:34] task 0 got new rank 0                                    (0 + 1) / 1]\n",
      "/home/ubuntu/.local/lib/python3.10/site-packages/xgboost/core.py:160: UserWarning: [21:39:09] WARNING: /workspace/src/learner.cc:742: \n",
      "Parameters: { \"numWorkers\" } are not used.\n",
      "\n",
      "  warnings.warn(smsg, UserWarning)\n",
      "2024-04-21 21:40:37,908 INFO XGBoost-PySpark: _fit Finished xgboost training!   \n",
      "2024-04-21 21:40:38,074 INFO XGBoost-PySpark: _fit Running xgboost-2.0.3 on 1 workers with\n",
      "\tbooster params: {'objective': 'reg:squarederror', 'device': 'cpu', 'numWorkers': 10, 'eta': 0.1, 'nthread': 1}\n",
      "\ttrain_call_kwargs_params: {'verbose_eval': True, 'num_boost_round': 100}\n",
      "\tdmatrix_kwargs: {'nthread': 1, 'missing': nan}\n",
      "[21:42:58] task 0 got new rank 0                                    (0 + 1) / 1]\n",
      "/home/ubuntu/.local/lib/python3.10/site-packages/xgboost/core.py:160: UserWarning: [21:43:33] WARNING: /workspace/src/learner.cc:742: \n",
      "Parameters: { \"numWorkers\" } are not used.\n",
      "\n",
      "  warnings.warn(smsg, UserWarning)\n",
      "2024-04-21 21:45:00,473 INFO XGBoost-PySpark: _fit Finished xgboost training!   \n",
      "2024-04-21 21:45:00,616 INFO XGBoost-PySpark: _fit Running xgboost-2.0.3 on 1 workers with\n",
      "\tbooster params: {'objective': 'reg:squarederror', 'device': 'cpu', 'numWorkers': 10, 'eta': 0.1, 'nthread': 1}\n",
      "\ttrain_call_kwargs_params: {'verbose_eval': True, 'num_boost_round': 100}\n",
      "\tdmatrix_kwargs: {'nthread': 1, 'missing': nan}\n",
      "[21:47:21] task 0 got new rank 0                                    (0 + 1) / 1]\n",
      "/home/ubuntu/.local/lib/python3.10/site-packages/xgboost/core.py:160: UserWarning: [21:47:56] WARNING: /workspace/src/learner.cc:742: \n",
      "Parameters: { \"numWorkers\" } are not used.\n",
      "\n",
      "  warnings.warn(smsg, UserWarning)\n",
      "2024-04-21 21:49:26,871 INFO XGBoost-PySpark: _fit Finished xgboost training!   \n",
      "2024-04-21 21:49:27,062 INFO XGBoost-PySpark: _fit Running xgboost-2.0.3 on 1 workers with\n",
      "\tbooster params: {'objective': 'reg:squarederror', 'device': 'cpu', 'numWorkers': 10, 'eta': 0.1, 'nthread': 1}\n",
      "\ttrain_call_kwargs_params: {'verbose_eval': True, 'num_boost_round': 100}\n",
      "\tdmatrix_kwargs: {'nthread': 1, 'missing': nan}\n",
      "[21:51:48] task 0 got new rank 0                                    (0 + 1) / 1]\n",
      "/home/ubuntu/.local/lib/python3.10/site-packages/xgboost/core.py:160: UserWarning: [21:52:23] WARNING: /workspace/src/learner.cc:742: \n",
      "Parameters: { \"numWorkers\" } are not used.\n",
      "\n",
      "  warnings.warn(smsg, UserWarning)\n",
      "2024-04-21 21:53:50,402 INFO XGBoost-PySpark: _fit Finished xgboost training!   \n"
     ]
    },
    {
     "name": "stdout",
     "output_type": "stream",
     "text": [
      "Training times for each run: [275.36387848854065, 266.0058059692383, 262.55772495269775, 266.4080424308777, 263.52869868278503]\n"
     ]
    }
   ],
   "source": [
    "for i in range(5):\n",
    "    t0 = time.time()\n",
    "    xgb_regressor_model = xgb_regressor.fit(train_data)\n",
    "    t1 = time.time()\n",
    "    times.append(t1-t0)\n",
    "print(\"Training times for each run:\", times)"
   ]
  },
  {
   "cell_type": "code",
   "execution_count": 13,
   "id": "f94a5acb-b400-46e2-8f49-ada22e6b6fdd",
   "metadata": {},
   "outputs": [],
   "source": [
    "times = []"
   ]
  },
  {
   "cell_type": "code",
   "execution_count": 14,
   "id": "f2e77fb9-8533-4a54-a8f6-e04693797798",
   "metadata": {},
   "outputs": [
    {
     "name": "stdout",
     "output_type": "stream",
     "text": [
      "Training times for each run: [0.13955903053283691, 0.08032870292663574, 0.08795332908630371, 0.08109807968139648, 0.07780265808105469]\n"
     ]
    },
    {
     "name": "stderr",
     "output_type": "stream",
     "text": [
      "INFO:XGBoost-PySpark:Do the inference on the CPUs                   (0 + 2) / 9]\n",
      "2024-04-21 21:53:54,718 INFO XGBoost-PySpark: predict_udf Do the inference on the CPUs\n",
      "INFO:XGBoost-PySpark:Do the inference on the CPUs                   (2 + 2) / 9]\n",
      "2024-04-21 21:54:28,194 INFO XGBoost-PySpark: predict_udf Do the inference on the CPUs\n",
      "2024-04-21 21:55:02,838 INFO XGBoost-PySpark: predict_udf Do the inference on the CPUs\n",
      "INFO:XGBoost-PySpark:Do the inference on the CPUs                   (4 + 2) / 9]\n",
      "INFO:XGBoost-PySpark:Do the inference on the CPUs                   (6 + 2) / 9]\n",
      "2024-04-21 21:55:37,420 INFO XGBoost-PySpark: predict_udf Do the inference on the CPUs\n",
      "2024-04-21 21:56:11,764 INFO XGBoost-PySpark: predict_udf Do the inference on the CPUs\n"
     ]
    },
    {
     "name": "stdout",
     "output_type": "stream",
     "text": [
      "Root Mean Squared Error (RMSE) on test data = 1.82001\n"
     ]
    },
    {
     "name": "stderr",
     "output_type": "stream",
     "text": [
      "                                                                                \r"
     ]
    }
   ],
   "source": [
    "for i in range(5):\n",
    "    t0 = time.time()\n",
    "\n",
    "# Assuming 'xgb_regressor_model' has already been trained and 'test_data' prepared\n",
    "    predictions = xgb_regressor_model.transform(test_data)\n",
    "    t1 = time.time()\n",
    "    times.append(t1-t0)\n",
    "# Evaluate the model using the correct parameter names\n",
    "evaluator = RegressionEvaluator(\n",
    "    labelCol=\"tip_amount\",  # Correct parameter name is 'labelCol' not 'label_col'\n",
    "    predictionCol=\"predicted_tip_amount\",  # Correct parameter name is 'predictionCol'\n",
    "    metricName=\"rmse\"  # This is correct; other options could be \"mae\" or \"r2\"\n",
    ")\n",
    "print(\"Training times for each run:\", times)\n",
    "# Calculate RMSE\n",
    "rmse = evaluator.evaluate(predictions)\n",
    "print(\"Root Mean Squared Error (RMSE) on test data = %g\" % rmse)"
   ]
  },
  {
   "cell_type": "markdown",
   "id": "5f707b81-3827-4a1d-9154-0ffd58e782a8",
   "metadata": {},
   "source": [
    "# 6 Workers"
   ]
  },
  {
   "cell_type": "code",
   "execution_count": 15,
   "id": "05324db0-42e8-48c7-81cf-1f3379063a47",
   "metadata": {},
   "outputs": [],
   "source": [
    "times = []"
   ]
  },
  {
   "cell_type": "code",
   "execution_count": 16,
   "id": "21fa2bc0",
   "metadata": {},
   "outputs": [
    {
     "name": "stdout",
     "output_type": "stream",
     "text": [
      "Training times for each run: [0.0011239051818847656, 0.0011930465698242188, 0.0009562969207763672, 0.0010235309600830078, 0.0008661746978759766]\n"
     ]
    }
   ],
   "source": [
    "for i in range(5):\n",
    "    t0 = time.time()\n",
    "# Create an instance of SparkXGBRegressor\n",
    "    xgb_regressor = SparkXGBRegressor(\n",
    "    features_col=\"features\",\n",
    "    label_col=\"tip_amount\",\n",
    "    prediction_col=\"predicted_tip_amount\",\n",
    "    objective=\"reg:squarederror\",\n",
    "    numWorkers=6,\n",
    "    eta=0.1\n",
    "    )\n",
    "    t1 = time.time()\n",
    "    times.append(t1-t0)\n",
    "print(\"Training times for each run:\", times)"
   ]
  },
  {
   "cell_type": "code",
   "execution_count": 17,
   "id": "38be3e81-a085-4ddc-a42f-a8e55ba2215a",
   "metadata": {},
   "outputs": [],
   "source": [
    "times = []"
   ]
  },
  {
   "cell_type": "code",
   "execution_count": 18,
   "id": "74dbe72f",
   "metadata": {},
   "outputs": [
    {
     "name": "stderr",
     "output_type": "stream",
     "text": [
      "2024-04-21 21:59:40,887 INFO XGBoost-PySpark: _fit Running xgboost-2.0.3 on 1 workers with\n",
      "\tbooster params: {'objective': 'reg:squarederror', 'device': 'cpu', 'numWorkers': 6, 'eta': 0.1, 'nthread': 1}\n",
      "\ttrain_call_kwargs_params: {'verbose_eval': True, 'num_boost_round': 100}\n",
      "\tdmatrix_kwargs: {'nthread': 1, 'missing': nan}\n",
      "[22:02:06] task 0 got new rank 0                                    (0 + 1) / 1]\n",
      "/home/ubuntu/.local/lib/python3.10/site-packages/xgboost/core.py:160: UserWarning: [22:02:43] WARNING: /workspace/src/learner.cc:742: \n",
      "Parameters: { \"numWorkers\" } are not used.\n",
      "\n",
      "  warnings.warn(smsg, UserWarning)\n",
      "2024-04-21 22:04:11,617 INFO XGBoost-PySpark: _fit Finished xgboost training!   \n",
      "2024-04-21 22:04:11,782 INFO XGBoost-PySpark: _fit Running xgboost-2.0.3 on 1 workers with\n",
      "\tbooster params: {'objective': 'reg:squarederror', 'device': 'cpu', 'numWorkers': 6, 'eta': 0.1, 'nthread': 1}\n",
      "\ttrain_call_kwargs_params: {'verbose_eval': True, 'num_boost_round': 100}\n",
      "\tdmatrix_kwargs: {'nthread': 1, 'missing': nan}\n",
      "[22:06:35] task 0 got new rank 0                                    (0 + 1) / 1]\n",
      "/home/ubuntu/.local/lib/python3.10/site-packages/xgboost/core.py:160: UserWarning: [22:07:11] WARNING: /workspace/src/learner.cc:742: \n",
      "Parameters: { \"numWorkers\" } are not used.\n",
      "\n",
      "  warnings.warn(smsg, UserWarning)\n",
      "2024-04-21 22:08:39,734 INFO XGBoost-PySpark: _fit Finished xgboost training!   \n",
      "2024-04-21 22:08:39,861 INFO XGBoost-PySpark: _fit Running xgboost-2.0.3 on 1 workers with\n",
      "\tbooster params: {'objective': 'reg:squarederror', 'device': 'cpu', 'numWorkers': 6, 'eta': 0.1, 'nthread': 1}\n",
      "\ttrain_call_kwargs_params: {'verbose_eval': True, 'num_boost_round': 100}\n",
      "\tdmatrix_kwargs: {'nthread': 1, 'missing': nan}\n",
      "[22:11:02] task 0 got new rank 0                                    (0 + 1) / 1]\n",
      "/home/ubuntu/.local/lib/python3.10/site-packages/xgboost/core.py:160: UserWarning: [22:11:37] WARNING: /workspace/src/learner.cc:742: \n",
      "Parameters: { \"numWorkers\" } are not used.\n",
      "\n",
      "  warnings.warn(smsg, UserWarning)\n",
      "2024-04-21 22:13:06,541 INFO XGBoost-PySpark: _fit Finished xgboost training!   \n",
      "2024-04-21 22:13:06,703 INFO XGBoost-PySpark: _fit Running xgboost-2.0.3 on 1 workers with\n",
      "\tbooster params: {'objective': 'reg:squarederror', 'device': 'cpu', 'numWorkers': 6, 'eta': 0.1, 'nthread': 1}\n",
      "\ttrain_call_kwargs_params: {'verbose_eval': True, 'num_boost_round': 100}\n",
      "\tdmatrix_kwargs: {'nthread': 1, 'missing': nan}\n",
      "[22:15:29] task 0 got new rank 0                                    (0 + 1) / 1]\n",
      "/home/ubuntu/.local/lib/python3.10/site-packages/xgboost/core.py:160: UserWarning: [22:16:04] WARNING: /workspace/src/learner.cc:742: \n",
      "Parameters: { \"numWorkers\" } are not used.\n",
      "\n",
      "  warnings.warn(smsg, UserWarning)\n",
      "2024-04-21 22:17:35,051 INFO XGBoost-PySpark: _fit Finished xgboost training!   \n",
      "2024-04-21 22:17:35,257 INFO XGBoost-PySpark: _fit Running xgboost-2.0.3 on 1 workers with\n",
      "\tbooster params: {'objective': 'reg:squarederror', 'device': 'cpu', 'numWorkers': 6, 'eta': 0.1, 'nthread': 1}\n",
      "\ttrain_call_kwargs_params: {'verbose_eval': True, 'num_boost_round': 100}\n",
      "\tdmatrix_kwargs: {'nthread': 1, 'missing': nan}\n",
      "[22:20:01] task 0 got new rank 0                                    (0 + 1) / 1]\n",
      "/home/ubuntu/.local/lib/python3.10/site-packages/xgboost/core.py:160: UserWarning: [22:20:37] WARNING: /workspace/src/learner.cc:742: \n",
      "Parameters: { \"numWorkers\" } are not used.\n",
      "\n",
      "  warnings.warn(smsg, UserWarning)\n",
      "2024-04-21 22:22:05,843 INFO XGBoost-PySpark: _fit Finished xgboost training!   \n"
     ]
    },
    {
     "name": "stdout",
     "output_type": "stream",
     "text": [
      "Training times for each run: [270.94072675704956, 268.09159541130066, 266.82062911987305, 268.5338923931122, 270.7846043109894]\n"
     ]
    }
   ],
   "source": [
    "for i in range(5):\n",
    "    t0 = time.time()\n",
    "    xgb_regressor_model = xgb_regressor.fit(train_data)\n",
    "    t1 = time.time()\n",
    "    times.append(t1-t0)\n",
    "print(\"Training times for each run:\", times)"
   ]
  },
  {
   "cell_type": "code",
   "execution_count": 19,
   "id": "95c10620-577f-41c3-856d-161142de242c",
   "metadata": {},
   "outputs": [],
   "source": [
    "times = []"
   ]
  },
  {
   "cell_type": "code",
   "execution_count": 20,
   "id": "e4068ad4",
   "metadata": {},
   "outputs": [
    {
     "name": "stdout",
     "output_type": "stream",
     "text": [
      "Training times for each run: [0.07748293876647949, 0.07015180587768555, 0.07546353340148926, 0.05991053581237793, 0.0815427303314209]\n"
     ]
    },
    {
     "name": "stderr",
     "output_type": "stream",
     "text": [
      "INFO:XGBoost-PySpark:Do the inference on the CPUs\n",
      "2024-04-21 22:22:09,300 INFO XGBoost-PySpark: predict_udf Do the inference on the CPUs\n",
      "2024-04-21 22:22:41,785 INFO XGBoost-PySpark: predict_udf Do the inference on the CPUs\n",
      "INFO:XGBoost-PySpark:Do the inference on the CPUs                   (2 + 2) / 9]\n",
      "2024-04-21 22:23:15,899 INFO XGBoost-PySpark: predict_udf Do the inference on the CPUs\n",
      "INFO:XGBoost-PySpark:Do the inference on the CPUs                   (4 + 2) / 9]\n",
      "2024-04-21 22:23:50,339 INFO XGBoost-PySpark: predict_udf Do the inference on the CPUs\n",
      "INFO:XGBoost-PySpark:Do the inference on the CPUs                   (6 + 2) / 9]\n",
      "2024-04-21 22:24:24,804 INFO XGBoost-PySpark: predict_udf Do the inference on the CPUs\n",
      "[Stage 38:===================================================>      (8 + 1) / 9]\r"
     ]
    },
    {
     "name": "stdout",
     "output_type": "stream",
     "text": [
      "Root Mean Squared Error (RMSE) on test data = 1.82001\n"
     ]
    },
    {
     "name": "stderr",
     "output_type": "stream",
     "text": [
      "                                                                                \r"
     ]
    }
   ],
   "source": [
    "for i in range(5):\n",
    "    t0 = time.time()\n",
    "\n",
    "# Assuming 'xgb_regressor_model' has already been trained and 'test_data' prepared\n",
    "    predictions = xgb_regressor_model.transform(test_data)\n",
    "    t1 = time.time()\n",
    "    times.append(t1-t0)\n",
    "# Evaluate the model using the correct parameter names\n",
    "evaluator = RegressionEvaluator(\n",
    "    labelCol=\"tip_amount\",  # Correct parameter name is 'labelCol' not 'label_col'\n",
    "    predictionCol=\"predicted_tip_amount\",  # Correct parameter name is 'predictionCol'\n",
    "    metricName=\"rmse\"  # This is correct; other options could be \"mae\" or \"r2\"\n",
    ")\n",
    "print(\"Training times for each run:\", times)\n",
    "# Calculate RMSE\n",
    "rmse = evaluator.evaluate(predictions)\n",
    "print(\"Root Mean Squared Error (RMSE) on test data = %g\" % rmse)"
   ]
  },
  {
   "cell_type": "markdown",
   "id": "b5dc9c22-f94d-476c-a2c4-55db1254300c",
   "metadata": {},
   "source": [
    "# 2 Workers"
   ]
  },
  {
   "cell_type": "code",
   "execution_count": 21,
   "id": "df7a18fe-e286-46d1-aabe-f9ecc18826d1",
   "metadata": {},
   "outputs": [],
   "source": [
    "times = []"
   ]
  },
  {
   "cell_type": "code",
   "execution_count": 22,
   "id": "03a636ac",
   "metadata": {},
   "outputs": [
    {
     "name": "stdout",
     "output_type": "stream",
     "text": [
      "Training times for each run: [0.0010111331939697266, 0.0008254051208496094, 0.0008337497711181641, 0.0007421970367431641, 0.0007581710815429688]\n"
     ]
    }
   ],
   "source": [
    "for i in range(5):\n",
    "    t0 = time.time()\n",
    "# Create an instance of SparkXGBRegressor\n",
    "    xgb_regressor = SparkXGBRegressor(\n",
    "    features_col=\"features\",\n",
    "    label_col=\"tip_amount\",\n",
    "    prediction_col=\"predicted_tip_amount\",\n",
    "    objective=\"reg:squarederror\",\n",
    "    numWorkers=2,\n",
    "    eta=0.1\n",
    "    )\n",
    "    t1 = time.time()\n",
    "    times.append(t1-t0)\n",
    "print(\"Training times for each run:\", times)"
   ]
  },
  {
   "cell_type": "code",
   "execution_count": 23,
   "id": "2821c57e-ad53-4ea6-b779-d5626daf3631",
   "metadata": {},
   "outputs": [],
   "source": [
    "times = []"
   ]
  },
  {
   "cell_type": "code",
   "execution_count": 24,
   "id": "79e7859f",
   "metadata": {},
   "outputs": [
    {
     "name": "stderr",
     "output_type": "stream",
     "text": [
      "2024-04-21 22:25:54,217 INFO XGBoost-PySpark: _fit Running xgboost-2.0.3 on 1 workers with\n",
      "\tbooster params: {'objective': 'reg:squarederror', 'device': 'cpu', 'numWorkers': 2, 'eta': 0.1, 'nthread': 1}\n",
      "\ttrain_call_kwargs_params: {'verbose_eval': True, 'num_boost_round': 100}\n",
      "\tdmatrix_kwargs: {'nthread': 1, 'missing': nan}\n",
      "[22:28:19] task 0 got new rank 0                                    (0 + 1) / 1]\n",
      "/home/ubuntu/.local/lib/python3.10/site-packages/xgboost/core.py:160: UserWarning: [22:28:54] WARNING: /workspace/src/learner.cc:742: \n",
      "Parameters: { \"numWorkers\" } are not used.\n",
      "\n",
      "  warnings.warn(smsg, UserWarning)\n",
      "2024-04-21 22:30:23,564 INFO XGBoost-PySpark: _fit Finished xgboost training!   \n",
      "2024-04-21 22:30:23,707 INFO XGBoost-PySpark: _fit Running xgboost-2.0.3 on 1 workers with\n",
      "\tbooster params: {'objective': 'reg:squarederror', 'device': 'cpu', 'numWorkers': 2, 'eta': 0.1, 'nthread': 1}\n",
      "\ttrain_call_kwargs_params: {'verbose_eval': True, 'num_boost_round': 100}\n",
      "\tdmatrix_kwargs: {'nthread': 1, 'missing': nan}\n",
      "[22:32:48] task 0 got new rank 0                                    (0 + 1) / 1]\n",
      "/home/ubuntu/.local/lib/python3.10/site-packages/xgboost/core.py:160: UserWarning: [22:33:23] WARNING: /workspace/src/learner.cc:742: \n",
      "Parameters: { \"numWorkers\" } are not used.\n",
      "\n",
      "  warnings.warn(smsg, UserWarning)\n",
      "2024-04-21 22:34:49,098 INFO XGBoost-PySpark: _fit Finished xgboost training!   \n",
      "2024-04-21 22:34:49,238 INFO XGBoost-PySpark: _fit Running xgboost-2.0.3 on 1 workers with\n",
      "\tbooster params: {'objective': 'reg:squarederror', 'device': 'cpu', 'numWorkers': 2, 'eta': 0.1, 'nthread': 1}\n",
      "\ttrain_call_kwargs_params: {'verbose_eval': True, 'num_boost_round': 100}\n",
      "\tdmatrix_kwargs: {'nthread': 1, 'missing': nan}\n",
      "[22:37:09] task 0 got new rank 0                                    (0 + 1) / 1]\n",
      "/home/ubuntu/.local/lib/python3.10/site-packages/xgboost/core.py:160: UserWarning: [22:37:44] WARNING: /workspace/src/learner.cc:742: \n",
      "Parameters: { \"numWorkers\" } are not used.\n",
      "\n",
      "  warnings.warn(smsg, UserWarning)\n",
      "2024-04-21 22:39:11,835 INFO XGBoost-PySpark: _fit Finished xgboost training!   \n",
      "2024-04-21 22:39:11,957 INFO XGBoost-PySpark: _fit Running xgboost-2.0.3 on 1 workers with\n",
      "\tbooster params: {'objective': 'reg:squarederror', 'device': 'cpu', 'numWorkers': 2, 'eta': 0.1, 'nthread': 1}\n",
      "\ttrain_call_kwargs_params: {'verbose_eval': True, 'num_boost_round': 100}\n",
      "\tdmatrix_kwargs: {'nthread': 1, 'missing': nan}\n",
      "[22:41:33] task 0 got new rank 0                                    (0 + 1) / 1]\n",
      "/home/ubuntu/.local/lib/python3.10/site-packages/xgboost/core.py:160: UserWarning: [22:42:09] WARNING: /workspace/src/learner.cc:742: \n",
      "Parameters: { \"numWorkers\" } are not used.\n",
      "\n",
      "  warnings.warn(smsg, UserWarning)\n",
      "2024-04-21 22:43:37,218 INFO XGBoost-PySpark: _fit Finished xgboost training!   \n",
      "2024-04-21 22:43:37,342 INFO XGBoost-PySpark: _fit Running xgboost-2.0.3 on 1 workers with\n",
      "\tbooster params: {'objective': 'reg:squarederror', 'device': 'cpu', 'numWorkers': 2, 'eta': 0.1, 'nthread': 1}\n",
      "\ttrain_call_kwargs_params: {'verbose_eval': True, 'num_boost_round': 100}\n",
      "\tdmatrix_kwargs: {'nthread': 1, 'missing': nan}\n",
      "[22:45:59] task 0 got new rank 0                                    (0 + 1) / 1]\n",
      "/home/ubuntu/.local/lib/python3.10/site-packages/xgboost/core.py:160: UserWarning: [22:46:36] WARNING: /workspace/src/learner.cc:742: \n",
      "Parameters: { \"numWorkers\" } are not used.\n",
      "\n",
      "  warnings.warn(smsg, UserWarning)\n",
      "2024-04-21 22:48:05,835 INFO XGBoost-PySpark: _fit Finished xgboost training!   \n"
     ]
    },
    {
     "name": "stdout",
     "output_type": "stream",
     "text": [
      "Training times for each run: [269.49249601364136, 265.5281836986542, 262.73722672462463, 265.38063073158264, 268.6342601776123]\n"
     ]
    }
   ],
   "source": [
    "for i in range(5):\n",
    "    t0 = time.time()\n",
    "    xgb_regressor_model = xgb_regressor.fit(train_data)\n",
    "    t1 = time.time()\n",
    "    times.append(t1-t0)\n",
    "print(\"Training times for each run:\", times)"
   ]
  },
  {
   "cell_type": "code",
   "execution_count": 25,
   "id": "c844315a-fbd3-46d4-826a-36a2180fbf12",
   "metadata": {},
   "outputs": [],
   "source": [
    "times = []"
   ]
  },
  {
   "cell_type": "code",
   "execution_count": 26,
   "id": "05df540d",
   "metadata": {},
   "outputs": [
    {
     "name": "stdout",
     "output_type": "stream",
     "text": [
      "Training times for each run: [0.07062339782714844, 0.0824432373046875, 0.09829831123352051, 0.08804798126220703, 0.060906171798706055]\n"
     ]
    },
    {
     "name": "stderr",
     "output_type": "stream",
     "text": [
      "INFO:XGBoost-PySpark:Do the inference on the CPUs\n",
      "2024-04-21 22:48:09,025 INFO XGBoost-PySpark: predict_udf Do the inference on the CPUs\n",
      "INFO:XGBoost-PySpark:Do the inference on the CPUs                   (1 + 2) / 9]\n",
      "2024-04-21 22:48:42,489 INFO XGBoost-PySpark: predict_udf Do the inference on the CPUs\n",
      "INFO:XGBoost-PySpark:Do the inference on the CPUs                   (3 + 2) / 9]\n",
      "2024-04-21 22:49:16,788 INFO XGBoost-PySpark: predict_udf Do the inference on the CPUs\n",
      "INFO:XGBoost-PySpark:Do the inference on the CPUs                   (6 + 2) / 9]\n",
      "2024-04-21 22:49:50,976 INFO XGBoost-PySpark: predict_udf Do the inference on the CPUs\n",
      "INFO:XGBoost-PySpark:Do the inference on the CPUs============>      (8 + 1) / 9]\n"
     ]
    },
    {
     "name": "stdout",
     "output_type": "stream",
     "text": [
      "Root Mean Squared Error (RMSE) on test data = 1.82001\n"
     ]
    },
    {
     "name": "stderr",
     "output_type": "stream",
     "text": [
      "                                                                                \r"
     ]
    }
   ],
   "source": [
    "for i in range(5):\n",
    "    t0 = time.time()\n",
    "\n",
    "# Assuming 'xgb_regressor_model' has already been trained and 'test_data' prepared\n",
    "    predictions = xgb_regressor_model.transform(test_data)\n",
    "    t1 = time.time()\n",
    "    times.append(t1-t0)\n",
    "# Evaluate the model using the correct parameter names\n",
    "evaluator = RegressionEvaluator(\n",
    "    labelCol=\"tip_amount\",  # Correct parameter name is 'labelCol' not 'label_col'\n",
    "    predictionCol=\"predicted_tip_amount\",  # Correct parameter name is 'predictionCol'\n",
    "    metricName=\"rmse\"  # This is correct; other options could be \"mae\" or \"r2\"\n",
    ")\n",
    "print(\"Training times for each run:\", times)\n",
    "# Calculate RMSE\n",
    "rmse = evaluator.evaluate(predictions)\n",
    "print(\"Root Mean Squared Error (RMSE) on test data = %g\" % rmse)"
   ]
  },
  {
   "cell_type": "code",
   "execution_count": null,
   "id": "6a202a27-b0fa-49b5-ada8-74f691d2a724",
   "metadata": {},
   "outputs": [],
   "source": []
  }
 ],
 "metadata": {
  "kernelspec": {
   "display_name": "Python 3 (ipykernel)",
   "language": "python",
   "name": "python3"
  },
  "language_info": {
   "codemirror_mode": {
    "name": "ipython",
    "version": 3
   },
   "file_extension": ".py",
   "mimetype": "text/x-python",
   "name": "python",
   "nbconvert_exporter": "python",
   "pygments_lexer": "ipython3",
   "version": "3.10.12"
  }
 },
 "nbformat": 4,
 "nbformat_minor": 5
}
