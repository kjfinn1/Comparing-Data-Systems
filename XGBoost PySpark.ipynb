{
 "cells": [
  {
   "cell_type": "code",
   "execution_count": 6,
   "id": "6ab37985-37ab-4185-ab47-ad19b935831d",
   "metadata": {},
   "outputs": [],
   "source": [
    "from xgboost.spark import SparkXGBRegressor\n",
    "spark_reg_estimator = SparkXGBRegressor(\n",
    "  features_col=\"features\",\n",
    "  label_col=\"label\",\n",
    "  num_workers=10,\n",
    ")"
   ]
  },
  {
   "cell_type": "code",
   "execution_count": 7,
   "id": "201ec3fb",
   "metadata": {},
   "outputs": [],
   "source": [
    "times=[]\n",
    "import time"
   ]
  },
  {
   "cell_type": "code",
   "execution_count": 8,
   "id": "0d9f194d-524e-49e9-9620-563295910450",
   "metadata": {},
   "outputs": [
    {
     "name": "stderr",
     "output_type": "stream",
     "text": [
      "                                                                                \r"
     ]
    },
    {
     "name": "stdout",
     "output_type": "stream",
     "text": [
      "root\n",
      " |-- trip_distance: double (nullable = true)\n",
      " |-- passenger_count: integer (nullable = true)\n",
      " |-- PULocationID: integer (nullable = true)\n",
      " |-- DOLocationID: integer (nullable = true)\n",
      " |-- tip_amount: double (nullable = true)\n",
      " |-- pickup_hour: integer (nullable = true)\n",
      "\n",
      "+--------------------+---------------+------------+------------+--------------------+-----------+\n",
      "|       trip_distance|passenger_count|PULocationID|DOLocationID|          tip_amount|pickup_hour|\n",
      "+--------------------+---------------+------------+------------+--------------------+-----------+\n",
      "| -0.3661467419730907|              1|         151|         239|-0.01412124292201...|          0|\n",
      "|-0.07707474953506906|              1|         239|         246|-0.03583707603552034|          0|\n",
      "|  -0.760335822570393|              3|         236|         236|-0.06924605005629836|         13|\n",
      "|  -0.760335822570393|              5|         193|         193|-0.06924605005629836|         15|\n",
      "|  -0.760335822570393|              5|         193|         193|-0.06924605005629836|         15|\n",
      "+--------------------+---------------+------------+------------+--------------------+-----------+\n",
      "only showing top 5 rows\n",
      "\n"
     ]
    }
   ],
   "source": [
    "from pyspark.sql import SparkSession\n",
    "\n",
    "# Create a SparkSession\n",
    "spark = SparkSession.builder \\\n",
    "    .appName(\"data.csv\") \\\n",
    "    .getOrCreate()\n",
    "\n",
    "# Read the CSV file into a Spark DataFrame\n",
    "file_path = \"/home/ubuntu/data.csv\"  # Replace this with the path to your CSV file\n",
    "train_spark_dataframe = spark.read.csv(file_path, header=True, inferSchema=True)\n",
    "\n",
    "# Show the schema and the first few rows of the DataFrame\n",
    "train_spark_dataframe.printSchema()\n",
    "train_spark_dataframe.show(5)"
   ]
  },
  {
   "cell_type": "code",
   "execution_count": 9,
   "id": "4b6305b8-9438-4826-9929-17a449d0a2f8",
   "metadata": {},
   "outputs": [],
   "source": [
    "from pyspark.sql import SparkSession\n",
    "from pyspark.ml.feature import VectorAssembler\n",
    "\n",
    "# Start Spark session if it's not already started\n",
    "# Uncomment the next two lines if the Spark session isn't initialized\n",
    "# spark = SparkSession.builder \\\n",
    "#     .appName(\"Tip Prediction Model\") \\\n",
    "#     .getOrCreate()\n",
    "\n",
    "# Define the assembler with the input columns that will be features\n",
    "assembler = VectorAssembler(\n",
    "    inputCols=[\"trip_distance\", \"passenger_count\", \"PULocationID\", \"DOLocationID\", \"pickup_hour\"],\n",
    "    outputCol=\"features\"\n",
    ")\n",
    "\n",
    "# Assuming 'train_spark_dataframe' is already loaded and defined\n",
    "# Transform the data to create feature vectors\n",
    "transformed_dataframe = assembler.transform(train_spark_dataframe)\n",
    "\n",
    "# Select only the necessary columns, including the newly created 'features' and the label 'tip_amount'\n",
    "final_dataframe = transformed_dataframe.select(\"features\", \"tip_amount\")\n",
    "\n",
    "# Split the data approximately into 70% training and 30% testing\n",
    "train_data, test_data = final_dataframe.randomSplit([0.7, 0.3], seed=42)"
   ]
  },
  {
   "cell_type": "code",
   "execution_count": 10,
   "id": "df825e22-ac03-4121-bc37-94d1111eb604",
   "metadata": {},
   "outputs": [],
   "source": [
    "from xgboost.spark import SparkXGBRegressor\n",
    "t0 = time.time()\n",
    "# Create an instance of SparkXGBRegressor\n",
    "xgb_regressor = SparkXGBRegressor(\n",
    "    features_col=\"features\",\n",
    "    label_col=\"tip_amount\",\n",
    "    prediction_col=\"predicted_tip_amount\",\n",
    "    objective=\"reg:squarederror\",\n",
    "    numWorkers=10,\n",
    "    eta=0.1\n",
    ")\n",
    "t1 = time.time()\n",
    "times.append(t1-t0)"
   ]
  },
  {
   "cell_type": "code",
   "execution_count": 11,
   "id": "94474f06-a5a4-416f-8f55-57a41091f6d2",
   "metadata": {},
   "outputs": [
    {
     "name": "stderr",
     "output_type": "stream",
     "text": [
      "2024-04-19 15:06:10,878 INFO XGBoost-PySpark: _fit Running xgboost-2.0.3 on 1 workers with\n",
      "\tbooster params: {'objective': 'reg:squarederror', 'device': 'cpu', 'numWorkers': 10, 'eta': 0.1, 'nthread': 1}\n",
      "\ttrain_call_kwargs_params: {'verbose_eval': True, 'num_boost_round': 100}\n",
      "\tdmatrix_kwargs: {'nthread': 1, 'missing': nan}\n",
      "[15:08:32] task 0 got new rank 0                                    (0 + 1) / 1]\n",
      "/home/ubuntu/.local/lib/python3.10/site-packages/xgboost/core.py:160: UserWarning: [15:09:17] WARNING: /workspace/src/learner.cc:742: \n",
      "Parameters: { \"numWorkers\" } are not used.\n",
      "\n",
      "  warnings.warn(smsg, UserWarning)\n",
      "2024-04-19 15:11:02,056 INFO XGBoost-PySpark: _fit Finished xgboost training!   \n"
     ]
    }
   ],
   "source": [
    "t0 = time.time()\n",
    "xgb_regressor_model = xgb_regressor.fit(train_data)\n",
    "t1 = time.time()\n",
    "times.append(t1-t0)"
   ]
  },
  {
   "cell_type": "code",
   "execution_count": 12,
   "id": "f2e77fb9-8533-4a54-a8f6-e04693797798",
   "metadata": {},
   "outputs": [
    {
     "name": "stderr",
     "output_type": "stream",
     "text": [
      "INFO:XGBoost-PySpark:Do the inference on the CPUs                   (0 + 2) / 9]\n",
      "2024-04-19 15:11:06,401 INFO XGBoost-PySpark: predict_udf Do the inference on the CPUs\n",
      "INFO:XGBoost-PySpark:Do the inference on the CPUs                   (2 + 2) / 9]\n",
      "2024-04-19 15:11:37,665 INFO XGBoost-PySpark: predict_udf Do the inference on the CPUs\n",
      "2024-04-19 15:12:09,836 INFO XGBoost-PySpark: predict_udf Do the inference on the CPUs\n",
      "INFO:XGBoost-PySpark:Do the inference on the CPUs\n",
      "INFO:XGBoost-PySpark:Do the inference on the CPUs                   (6 + 2) / 9]\n",
      "2024-04-19 15:12:41,557 INFO XGBoost-PySpark: predict_udf Do the inference on the CPUs\n",
      "INFO:XGBoost-PySpark:Do the inference on the CPUs=====>             (7 + 2) / 9]\n",
      "[Stage 9:====================================================>      (8 + 1) / 9]\r"
     ]
    },
    {
     "name": "stdout",
     "output_type": "stream",
     "text": [
      "Root Mean Squared Error (RMSE) on test data = 1.82001\n"
     ]
    },
    {
     "name": "stderr",
     "output_type": "stream",
     "text": [
      "                                                                                \r"
     ]
    }
   ],
   "source": [
    "from pyspark.ml.evaluation import RegressionEvaluator\n",
    "t0 = time.time()\n",
    "\n",
    "# Assuming 'xgb_regressor_model' has already been trained and 'test_data' prepared\n",
    "predictions = xgb_regressor_model.transform(test_data)\n",
    "t1 = time.time()\n",
    "times.append(t1-t0)\n",
    "# Evaluate the model using the correct parameter names\n",
    "evaluator = RegressionEvaluator(\n",
    "    labelCol=\"tip_amount\",  # Correct parameter name is 'labelCol' not 'label_col'\n",
    "    predictionCol=\"predicted_tip_amount\",  # Correct parameter name is 'predictionCol'\n",
    "    metricName=\"rmse\"  # This is correct; other options could be \"mae\" or \"r2\"\n",
    ")\n",
    "\n",
    "# Calculate RMSE\n",
    "rmse = evaluator.evaluate(predictions)\n",
    "print(\"Root Mean Squared Error (RMSE) on test data = %g\" % rmse)"
   ]
  },
  {
   "cell_type": "code",
   "execution_count": 13,
   "id": "bd2ae3e2-a917-43c0-9d1f-ab8ae4b06476",
   "metadata": {},
   "outputs": [
    {
     "data": {
      "text/plain": [
       "[0.0012483596801757812, 292.3346936702728, 0.2451019287109375]"
      ]
     },
     "execution_count": 13,
     "metadata": {},
     "output_type": "execute_result"
    }
   ],
   "source": [
    "times"
   ]
  },
  {
   "cell_type": "code",
   "execution_count": 14,
   "id": "9f52d830",
   "metadata": {},
   "outputs": [],
   "source": [
    "from xgboost.spark import SparkXGBRegressor\n",
    "spark_reg_estimator = SparkXGBRegressor(\n",
    "  features_col=\"features\",\n",
    "  label_col=\"label\",\n",
    "  num_workers=6,\n",
    ")"
   ]
  },
  {
   "cell_type": "code",
   "execution_count": 15,
   "id": "7abb4aab",
   "metadata": {},
   "outputs": [
    {
     "name": "stderr",
     "output_type": "stream",
     "text": [
      "[Stage 12:===================================================>      (8 + 1) / 9]\r"
     ]
    },
    {
     "name": "stdout",
     "output_type": "stream",
     "text": [
      "root\n",
      " |-- trip_distance: double (nullable = true)\n",
      " |-- passenger_count: integer (nullable = true)\n",
      " |-- PULocationID: integer (nullable = true)\n",
      " |-- DOLocationID: integer (nullable = true)\n",
      " |-- tip_amount: double (nullable = true)\n",
      " |-- pickup_hour: integer (nullable = true)\n",
      "\n",
      "+--------------------+---------------+------------+------------+--------------------+-----------+\n",
      "|       trip_distance|passenger_count|PULocationID|DOLocationID|          tip_amount|pickup_hour|\n",
      "+--------------------+---------------+------------+------------+--------------------+-----------+\n",
      "| -0.3661467419730907|              1|         151|         239|-0.01412124292201...|          0|\n",
      "|-0.07707474953506906|              1|         239|         246|-0.03583707603552034|          0|\n",
      "|  -0.760335822570393|              3|         236|         236|-0.06924605005629836|         13|\n",
      "|  -0.760335822570393|              5|         193|         193|-0.06924605005629836|         15|\n",
      "|  -0.760335822570393|              5|         193|         193|-0.06924605005629836|         15|\n",
      "+--------------------+---------------+------------+------------+--------------------+-----------+\n",
      "only showing top 5 rows\n",
      "\n"
     ]
    },
    {
     "name": "stderr",
     "output_type": "stream",
     "text": [
      "                                                                                \r"
     ]
    }
   ],
   "source": [
    "from pyspark.sql import SparkSession\n",
    "\n",
    "# Create a SparkSession\n",
    "spark = SparkSession.builder \\\n",
    "    .appName(\"data.csv\") \\\n",
    "    .getOrCreate()\n",
    "\n",
    "# Read the CSV file into a Spark DataFrame\n",
    "file_path = \"/home/ubuntu/data.csv\"  # Replace this with the path to your CSV file\n",
    "train_spark_dataframe = spark.read.csv(file_path, header=True, inferSchema=True)\n",
    "\n",
    "# Show the schema and the first few rows of the DataFrame\n",
    "train_spark_dataframe.printSchema()\n",
    "train_spark_dataframe.show(5)"
   ]
  },
  {
   "cell_type": "code",
   "execution_count": 16,
   "id": "ebb030f0",
   "metadata": {},
   "outputs": [],
   "source": [
    "from pyspark.sql import SparkSession\n",
    "from pyspark.ml.feature import VectorAssembler\n",
    "\n",
    "# Start Spark session if it's not already started\n",
    "# Uncomment the next two lines if the Spark session isn't initialized\n",
    "# spark = SparkSession.builder \\\n",
    "#     .appName(\"Tip Prediction Model\") \\\n",
    "#     .getOrCreate()\n",
    "\n",
    "# Define the assembler with the input columns that will be features\n",
    "assembler = VectorAssembler(\n",
    "    inputCols=[\"trip_distance\", \"passenger_count\", \"PULocationID\", \"DOLocationID\", \"pickup_hour\"],\n",
    "    outputCol=\"features\"\n",
    ")\n",
    "\n",
    "# Assuming 'train_spark_dataframe' is already loaded and defined\n",
    "# Transform the data to create feature vectors\n",
    "transformed_dataframe = assembler.transform(train_spark_dataframe)\n",
    "\n",
    "# Select only the necessary columns, including the newly created 'features' and the label 'tip_amount'\n",
    "final_dataframe = transformed_dataframe.select(\"features\", \"tip_amount\")\n",
    "\n",
    "# Split the data approximately into 70% training and 30% testing\n",
    "train_data, test_data = final_dataframe.randomSplit([0.7, 0.3], seed=42)"
   ]
  },
  {
   "cell_type": "code",
   "execution_count": 17,
   "id": "21fa2bc0",
   "metadata": {},
   "outputs": [],
   "source": [
    "from xgboost.spark import SparkXGBRegressor\n",
    "t0 = time.time()\n",
    "# Create an instance of SparkXGBRegressor\n",
    "xgb_regressor = SparkXGBRegressor(\n",
    "    features_col=\"features\",\n",
    "    label_col=\"tip_amount\",\n",
    "    prediction_col=\"predicted_tip_amount\",\n",
    "    objective=\"reg:squarederror\",\n",
    "    numWorkers=6,\n",
    "    eta=0.1\n",
    ")\n",
    "t1 = time.time()\n",
    "times.append(t1-t0)"
   ]
  },
  {
   "cell_type": "code",
   "execution_count": 18,
   "id": "74dbe72f",
   "metadata": {},
   "outputs": [
    {
     "name": "stderr",
     "output_type": "stream",
     "text": [
      "2024-04-19 15:15:21,960 INFO XGBoost-PySpark: _fit Running xgboost-2.0.3 on 1 workers with\n",
      "\tbooster params: {'objective': 'reg:squarederror', 'device': 'cpu', 'numWorkers': 6, 'eta': 0.1, 'nthread': 1}\n",
      "\ttrain_call_kwargs_params: {'verbose_eval': True, 'num_boost_round': 100}\n",
      "\tdmatrix_kwargs: {'nthread': 1, 'missing': nan}\n",
      "[15:17:34] task 0 got new rank 0                                    (0 + 1) / 1]\n",
      "/home/ubuntu/.local/lib/python3.10/site-packages/xgboost/core.py:160: UserWarning: [15:18:17] WARNING: /workspace/src/learner.cc:742: \n",
      "Parameters: { \"numWorkers\" } are not used.\n",
      "\n",
      "  warnings.warn(smsg, UserWarning)\n",
      "2024-04-19 15:20:00,301 INFO XGBoost-PySpark: _fit Finished xgboost training!   \n"
     ]
    }
   ],
   "source": [
    "t0 = time.time()\n",
    "xgb_regressor_model = xgb_regressor.fit(train_data)\n",
    "t1 = time.time()\n",
    "times.append(t1-t0)"
   ]
  },
  {
   "cell_type": "code",
   "execution_count": 19,
   "id": "e4068ad4",
   "metadata": {},
   "outputs": [
    {
     "name": "stderr",
     "output_type": "stream",
     "text": [
      "INFO:XGBoost-PySpark:Do the inference on the CPUs                   (0 + 2) / 9]\n",
      "2024-04-19 15:20:04,365 INFO XGBoost-PySpark: predict_udf Do the inference on the CPUs\n",
      "2024-04-19 15:20:35,181 INFO XGBoost-PySpark: predict_udf Do the inference on the CPUs\n",
      "INFO:XGBoost-PySpark:Do the inference on the CPUs\n",
      "2024-04-19 15:21:06,869 INFO XGBoost-PySpark: predict_udf Do the inference on the CPUs\n",
      "INFO:XGBoost-PySpark:Do the inference on the CPUs                   (4 + 2) / 9]\n",
      "2024-04-19 15:21:38,255 INFO XGBoost-PySpark: predict_udf Do the inference on the CPUs\n",
      "INFO:XGBoost-PySpark:Do the inference on the CPUs                   (6 + 2) / 9]\n",
      "2024-04-19 15:22:10,103 INFO XGBoost-PySpark: predict_udf Do the inference on the CPUs\n",
      "[Stage 17:===================================================>      (8 + 1) / 9]\r"
     ]
    },
    {
     "name": "stdout",
     "output_type": "stream",
     "text": [
      "Root Mean Squared Error (RMSE) on test data = 1.82001\n"
     ]
    },
    {
     "name": "stderr",
     "output_type": "stream",
     "text": [
      "                                                                                \r"
     ]
    }
   ],
   "source": [
    "from pyspark.ml.evaluation import RegressionEvaluator\n",
    "t0 = time.time()\n",
    "\n",
    "# Assuming 'xgb_regressor_model' has already been trained and 'test_data' prepared\n",
    "predictions = xgb_regressor_model.transform(test_data)\n",
    "t1 = time.time()\n",
    "times.append(t1-t0)\n",
    "# Evaluate the model using the correct parameter names\n",
    "evaluator = RegressionEvaluator(\n",
    "    labelCol=\"tip_amount\",  # Correct parameter name is 'labelCol' not 'label_col'\n",
    "    predictionCol=\"predicted_tip_amount\",  # Correct parameter name is 'predictionCol'\n",
    "    metricName=\"rmse\"  # This is correct; other options could be \"mae\" or \"r2\"\n",
    ")\n",
    "\n",
    "# Calculate RMSE\n",
    "rmse = evaluator.evaluate(predictions)\n",
    "print(\"Root Mean Squared Error (RMSE) on test data = %g\" % rmse)"
   ]
  },
  {
   "cell_type": "code",
   "execution_count": 20,
   "id": "2a2718d3",
   "metadata": {},
   "outputs": [
    {
     "data": {
      "text/plain": [
       "[0.0012483596801757812,\n",
       " 292.3346936702728,\n",
       " 0.2451019287109375,\n",
       " 0.005173206329345703,\n",
       " 278.7103703022003,\n",
       " 0.14718866348266602]"
      ]
     },
     "execution_count": 20,
     "metadata": {},
     "output_type": "execute_result"
    }
   ],
   "source": [
    "times"
   ]
  },
  {
   "cell_type": "code",
   "execution_count": 21,
   "id": "a03b912a",
   "metadata": {},
   "outputs": [],
   "source": [
    "from xgboost.spark import SparkXGBRegressor\n",
    "spark_reg_estimator = SparkXGBRegressor(\n",
    "  features_col=\"features\",\n",
    "  label_col=\"label\",\n",
    "  num_workers=2,\n",
    ")"
   ]
  },
  {
   "cell_type": "code",
   "execution_count": 22,
   "id": "70d1377d",
   "metadata": {},
   "outputs": [
    {
     "name": "stderr",
     "output_type": "stream",
     "text": [
      "[Stage 20:===================================================>      (8 + 1) / 9]\r"
     ]
    },
    {
     "name": "stdout",
     "output_type": "stream",
     "text": [
      "root\n",
      " |-- trip_distance: double (nullable = true)\n",
      " |-- passenger_count: integer (nullable = true)\n",
      " |-- PULocationID: integer (nullable = true)\n",
      " |-- DOLocationID: integer (nullable = true)\n",
      " |-- tip_amount: double (nullable = true)\n",
      " |-- pickup_hour: integer (nullable = true)\n",
      "\n",
      "+--------------------+---------------+------------+------------+--------------------+-----------+\n",
      "|       trip_distance|passenger_count|PULocationID|DOLocationID|          tip_amount|pickup_hour|\n",
      "+--------------------+---------------+------------+------------+--------------------+-----------+\n",
      "| -0.3661467419730907|              1|         151|         239|-0.01412124292201...|          0|\n",
      "|-0.07707474953506906|              1|         239|         246|-0.03583707603552034|          0|\n",
      "|  -0.760335822570393|              3|         236|         236|-0.06924605005629836|         13|\n",
      "|  -0.760335822570393|              5|         193|         193|-0.06924605005629836|         15|\n",
      "|  -0.760335822570393|              5|         193|         193|-0.06924605005629836|         15|\n",
      "+--------------------+---------------+------------+------------+--------------------+-----------+\n",
      "only showing top 5 rows\n",
      "\n"
     ]
    },
    {
     "name": "stderr",
     "output_type": "stream",
     "text": [
      "                                                                                \r"
     ]
    }
   ],
   "source": [
    "from pyspark.sql import SparkSession\n",
    "\n",
    "# Create a SparkSession\n",
    "spark = SparkSession.builder \\\n",
    "    .appName(\"data.csv\") \\\n",
    "    .getOrCreate()\n",
    "\n",
    "# Read the CSV file into a Spark DataFrame\n",
    "file_path = \"/home/ubuntu/data.csv\"  # Replace this with the path to your CSV file\n",
    "train_spark_dataframe = spark.read.csv(file_path, header=True, inferSchema=True)\n",
    "\n",
    "# Show the schema and the first few rows of the DataFrame\n",
    "train_spark_dataframe.printSchema()\n",
    "train_spark_dataframe.show(5)"
   ]
  },
  {
   "cell_type": "code",
   "execution_count": 23,
   "id": "8f618689",
   "metadata": {},
   "outputs": [],
   "source": [
    "from pyspark.sql import SparkSession\n",
    "from pyspark.ml.feature import VectorAssembler\n",
    "\n",
    "# Start Spark session if it's not already started\n",
    "# Uncomment the next two lines if the Spark session isn't initialized\n",
    "# spark = SparkSession.builder \\\n",
    "#     .appName(\"Tip Prediction Model\") \\\n",
    "#     .getOrCreate()\n",
    "\n",
    "# Define the assembler with the input columns that will be features\n",
    "assembler = VectorAssembler(\n",
    "    inputCols=[\"trip_distance\", \"passenger_count\", \"PULocationID\", \"DOLocationID\", \"pickup_hour\"],\n",
    "    outputCol=\"features\"\n",
    ")\n",
    "\n",
    "# Assuming 'train_spark_dataframe' is already loaded and defined\n",
    "# Transform the data to create feature vectors\n",
    "transformed_dataframe = assembler.transform(train_spark_dataframe)\n",
    "\n",
    "# Select only the necessary columns, including the newly created 'features' and the label 'tip_amount'\n",
    "final_dataframe = transformed_dataframe.select(\"features\", \"tip_amount\")\n",
    "\n",
    "# Split the data approximately into 70% training and 30% testing\n",
    "train_data, test_data = final_dataframe.randomSplit([0.7, 0.3], seed=42)"
   ]
  },
  {
   "cell_type": "code",
   "execution_count": 24,
   "id": "03a636ac",
   "metadata": {},
   "outputs": [],
   "source": [
    "from xgboost.spark import SparkXGBRegressor\n",
    "t0 = time.time()\n",
    "# Create an instance of SparkXGBRegressor\n",
    "xgb_regressor = SparkXGBRegressor(\n",
    "    features_col=\"features\",\n",
    "    label_col=\"tip_amount\",\n",
    "    prediction_col=\"predicted_tip_amount\",\n",
    "    objective=\"reg:squarederror\",\n",
    "    numWorkers=2,\n",
    "    eta=0.1\n",
    ")\n",
    "t1 = time.time()\n",
    "times.append(t1-t0)"
   ]
  },
  {
   "cell_type": "code",
   "execution_count": 25,
   "id": "79e7859f",
   "metadata": {},
   "outputs": [
    {
     "name": "stderr",
     "output_type": "stream",
     "text": [
      "2024-04-19 15:24:16,498 INFO XGBoost-PySpark: _fit Running xgboost-2.0.3 on 1 workers with\n",
      "\tbooster params: {'objective': 'reg:squarederror', 'device': 'cpu', 'numWorkers': 2, 'eta': 0.1, 'nthread': 1}\n",
      "\ttrain_call_kwargs_params: {'verbose_eval': True, 'num_boost_round': 100}\n",
      "\tdmatrix_kwargs: {'nthread': 1, 'missing': nan}\n",
      "[15:26:30] task 0 got new rank 0                                    (0 + 1) / 1]\n",
      "/home/ubuntu/.local/lib/python3.10/site-packages/xgboost/core.py:160: UserWarning: [15:27:15] WARNING: /workspace/src/learner.cc:742: \n",
      "Parameters: { \"numWorkers\" } are not used.\n",
      "\n",
      "  warnings.warn(smsg, UserWarning)\n",
      "2024-04-19 15:28:59,313 INFO XGBoost-PySpark: _fit Finished xgboost training!   \n"
     ]
    }
   ],
   "source": [
    "t0 = time.time()\n",
    "xgb_regressor_model = xgb_regressor.fit(train_data)\n",
    "t1 = time.time()\n",
    "times.append(t1-t0)"
   ]
  },
  {
   "cell_type": "code",
   "execution_count": 26,
   "id": "05df540d",
   "metadata": {},
   "outputs": [
    {
     "name": "stderr",
     "output_type": "stream",
     "text": [
      "INFO:XGBoost-PySpark:Do the inference on the CPUs\n",
      "2024-04-19 15:29:02,840 INFO XGBoost-PySpark: predict_udf Do the inference on the CPUs\n",
      "2024-04-19 15:29:33,684 INFO XGBoost-PySpark: predict_udf Do the inference on the CPUs\n",
      "INFO:XGBoost-PySpark:Do the inference on the CPUs\n",
      "INFO:XGBoost-PySpark:Do the inference on the CPUs                   (4 + 2) / 9]\n",
      "2024-04-19 15:30:05,547 INFO XGBoost-PySpark: predict_udf Do the inference on the CPUs\n",
      "2024-04-19 15:30:37,858 INFO XGBoost-PySpark: predict_udf Do the inference on the CPUs\n",
      "INFO:XGBoost-PySpark:Do the inference on the CPUs                   (6 + 2) / 9]\n",
      "2024-04-19 15:31:09,700 INFO XGBoost-PySpark: predict_udf Do the inference on the CPUs\n",
      "[Stage 25:===================================================>      (8 + 1) / 9]\r"
     ]
    },
    {
     "name": "stdout",
     "output_type": "stream",
     "text": [
      "Root Mean Squared Error (RMSE) on test data = 1.82001\n"
     ]
    },
    {
     "name": "stderr",
     "output_type": "stream",
     "text": [
      "                                                                                \r"
     ]
    }
   ],
   "source": [
    "from pyspark.ml.evaluation import RegressionEvaluator\n",
    "t0 = time.time()\n",
    "\n",
    "# Assuming 'xgb_regressor_model' has already been trained and 'test_data' prepared\n",
    "predictions = xgb_regressor_model.transform(test_data)\n",
    "t1 = time.time()\n",
    "times.append(t1-t0)\n",
    "# Evaluate the model using the correct parameter names\n",
    "evaluator = RegressionEvaluator(\n",
    "    labelCol=\"tip_amount\",  # Correct parameter name is 'labelCol' not 'label_col'\n",
    "    predictionCol=\"predicted_tip_amount\",  # Correct parameter name is 'predictionCol'\n",
    "    metricName=\"rmse\"  # This is correct; other options could be \"mae\" or \"r2\"\n",
    ")\n",
    "\n",
    "# Calculate RMSE\n",
    "rmse = evaluator.evaluate(predictions)\n",
    "print(\"Root Mean Squared Error (RMSE) on test data = %g\" % rmse)"
   ]
  },
  {
   "cell_type": "code",
   "execution_count": 27,
   "id": "194214de",
   "metadata": {},
   "outputs": [
    {
     "data": {
      "text/plain": [
       "[0.0012483596801757812,\n",
       " 292.3346936702728,\n",
       " 0.2451019287109375,\n",
       " 0.005173206329345703,\n",
       " 278.7103703022003,\n",
       " 0.14718866348266602,\n",
       " 0.001135110855102539,\n",
       " 283.0397434234619,\n",
       " 0.10004115104675293]"
      ]
     },
     "execution_count": 27,
     "metadata": {},
     "output_type": "execute_result"
    }
   ],
   "source": [
    "times"
   ]
  },
  {
   "cell_type": "code",
   "execution_count": null,
   "id": "6a202a27-b0fa-49b5-ada8-74f691d2a724",
   "metadata": {},
   "outputs": [],
   "source": []
  }
 ],
 "metadata": {
  "kernelspec": {
   "display_name": "Python 3 (ipykernel)",
   "language": "python",
   "name": "python3"
  },
  "language_info": {
   "codemirror_mode": {
    "name": "ipython",
    "version": 3
   },
   "file_extension": ".py",
   "mimetype": "text/x-python",
   "name": "python",
   "nbconvert_exporter": "python",
   "pygments_lexer": "ipython3",
   "version": "3.10.12"
  }
 },
 "nbformat": 4,
 "nbformat_minor": 5
}
